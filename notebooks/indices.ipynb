{
 "cells": [
  {
   "cell_type": "markdown",
   "metadata": {},
   "source": [
    "# illustrates the use of the `indices` class"
   ]
  },
  {
   "cell_type": "code",
   "execution_count": 1,
   "metadata": {
    "collapsed": true
   },
   "outputs": [],
   "source": [
    "%matplotlib inline\n",
    "import matplotlib.pyplot as plt"
   ]
  },
  {
   "cell_type": "code",
   "execution_count": 2,
   "metadata": {
    "collapsed": true
   },
   "outputs": [],
   "source": [
    "import sys"
   ]
  },
  {
   "cell_type": "markdown",
   "metadata": {},
   "source": [
    "### import the development version of paleopy"
   ]
  },
  {
   "cell_type": "code",
   "execution_count": 3,
   "metadata": {
    "collapsed": false
   },
   "outputs": [],
   "source": [
    "sys.path.append('../')"
   ]
  },
  {
   "cell_type": "code",
   "execution_count": 4,
   "metadata": {
    "collapsed": false
   },
   "outputs": [],
   "source": [
    "from paleopy import proxy \n",
    "from paleopy import analogs\n",
    "from paleopy.plotting import indices"
   ]
  },
  {
   "cell_type": "markdown",
   "metadata": {},
   "source": [
    "### first example, defines one proxy"
   ]
  },
  {
   "cell_type": "code",
   "execution_count": 5,
   "metadata": {
    "collapsed": true
   },
   "outputs": [],
   "source": [
    "djsons = '../jsons/'\n",
    "pjsons = '../jsons/proxies'"
   ]
  },
  {
   "cell_type": "code",
   "execution_count": 6,
   "metadata": {
    "collapsed": false
   },
   "outputs": [],
   "source": [
    "p = proxy(sitename='Rarotonga', \\\n",
    "          lon = -159.82, \\\n",
    "          lat = -21.23, \\\n",
    "          djsons = djsons, \\\n",
    "          pjsons = pjsons, \\\n",
    "          pfname = 'Rarotonga.json', \\\n",
    "          dataset = 'ersst', \\\n",
    "          variable ='sst', \\\n",
    "          measurement ='delta O18', \\\n",
    "          dating_convention = 'absolute', \\\n",
    "          calendar = 'gregorian',\\\n",
    "          chronology = 'historic', \\\n",
    "          season = 'DJF', \\\n",
    "          value = 0.6, \\\n",
    "          calc_anoms = True, \\\n",
    "          detrend = True)"
   ]
  },
  {
   "cell_type": "code",
   "execution_count": 7,
   "metadata": {
    "collapsed": false
   },
   "outputs": [],
   "source": [
    "p.find_analogs()"
   ]
  },
  {
   "cell_type": "code",
   "execution_count": 8,
   "metadata": {
    "collapsed": false
   },
   "outputs": [
    {
     "data": {
      "text/plain": [
       "array([1982, 1997, 1999, 2000, 2001, 2006, 2009], dtype=int32)"
      ]
     },
     "execution_count": 8,
     "metadata": {},
     "output_type": "execute_result"
    }
   ],
   "source": [
    "p.analog_years"
   ]
  },
  {
   "cell_type": "code",
   "execution_count": 9,
   "metadata": {
    "collapsed": false
   },
   "outputs": [
    {
     "data": {
      "text/html": [
       "<div>\n",
       "<table border=\"1\" class=\"dataframe\">\n",
       "  <thead>\n",
       "    <tr style=\"text-align: right;\">\n",
       "      <th></th>\n",
       "      <th>sst</th>\n",
       "      <th>anomalies</th>\n",
       "      <th>d_sst</th>\n",
       "      <th>d_anomalies</th>\n",
       "      <th>cat</th>\n",
       "    </tr>\n",
       "    <tr>\n",
       "      <th>time</th>\n",
       "      <th></th>\n",
       "      <th></th>\n",
       "      <th></th>\n",
       "      <th></th>\n",
       "      <th></th>\n",
       "    </tr>\n",
       "  </thead>\n",
       "  <tbody>\n",
       "    <tr>\n",
       "      <th>1982-02-15</th>\n",
       "      <td>26.849999</td>\n",
       "      <td>0.196222</td>\n",
       "      <td>27.308039</td>\n",
       "      <td>0.638992</td>\n",
       "      <td>WA</td>\n",
       "    </tr>\n",
       "    <tr>\n",
       "      <th>1997-02-15</th>\n",
       "      <td>27.416666</td>\n",
       "      <td>0.762889</td>\n",
       "      <td>27.416666</td>\n",
       "      <td>0.747619</td>\n",
       "      <td>WA</td>\n",
       "    </tr>\n",
       "    <tr>\n",
       "      <th>1999-02-15</th>\n",
       "      <td>27.466666</td>\n",
       "      <td>0.812889</td>\n",
       "      <td>27.405594</td>\n",
       "      <td>0.736547</td>\n",
       "      <td>WA</td>\n",
       "    </tr>\n",
       "    <tr>\n",
       "      <th>2000-02-15</th>\n",
       "      <td>27.373333</td>\n",
       "      <td>0.719556</td>\n",
       "      <td>27.281725</td>\n",
       "      <td>0.612678</td>\n",
       "      <td>WA</td>\n",
       "    </tr>\n",
       "    <tr>\n",
       "      <th>2001-02-15</th>\n",
       "      <td>27.356666</td>\n",
       "      <td>0.702889</td>\n",
       "      <td>27.234522</td>\n",
       "      <td>0.565475</td>\n",
       "      <td>WA</td>\n",
       "    </tr>\n",
       "    <tr>\n",
       "      <th>2006-02-15</th>\n",
       "      <td>27.373333</td>\n",
       "      <td>0.719556</td>\n",
       "      <td>27.098509</td>\n",
       "      <td>0.429462</td>\n",
       "      <td>WA</td>\n",
       "    </tr>\n",
       "    <tr>\n",
       "      <th>2009-02-15</th>\n",
       "      <td>27.539999</td>\n",
       "      <td>0.886222</td>\n",
       "      <td>27.173568</td>\n",
       "      <td>0.504521</td>\n",
       "      <td>WA</td>\n",
       "    </tr>\n",
       "  </tbody>\n",
       "</table>\n",
       "</div>"
      ],
      "text/plain": [
       "                  sst  anomalies      d_sst  d_anomalies cat\n",
       "time                                                        \n",
       "1982-02-15  26.849999   0.196222  27.308039     0.638992  WA\n",
       "1997-02-15  27.416666   0.762889  27.416666     0.747619  WA\n",
       "1999-02-15  27.466666   0.812889  27.405594     0.736547  WA\n",
       "2000-02-15  27.373333   0.719556  27.281725     0.612678  WA\n",
       "2001-02-15  27.356666   0.702889  27.234522     0.565475  WA\n",
       "2006-02-15  27.373333   0.719556  27.098509     0.429462  WA\n",
       "2009-02-15  27.539999   0.886222  27.173568     0.504521  WA"
      ]
     },
     "execution_count": 9,
     "metadata": {},
     "output_type": "execute_result"
    }
   ],
   "source": [
    "p.analogs"
   ]
  },
  {
   "cell_type": "code",
   "execution_count": 10,
   "metadata": {
    "collapsed": false
   },
   "outputs": [
    {
     "data": {
      "image/png": "[encoded data removed]",
      "text/plain": [
       "<matplotlib.figure.Figure at 0x11713b2b0>"
      ]
     },
     "metadata": {},
     "output_type": "display_data"
    }
   ],
   "source": [
    "f = p.plot_season_ts()"
   ]
  },
  {
   "cell_type": "code",
   "execution_count": 11,
   "metadata": {
    "collapsed": false
   },
   "outputs": [
    {
     "name": "stdout",
     "output_type": "stream",
     "text": [
      "{\n",
      "sitename:Rarotonga\n",
      "proxy_type:None\n",
      "measurement:delta O18\n",
      "dating_convention:absolute\n",
      "calendar:gregorian\n",
      "chronology:historic\n",
      "coords:(200.18, -21.23)\n",
      "aspect:None\n",
      "elevation:None\n",
      "season:DJF\n",
      "dataset:ersst\n",
      "variable:sst\n",
      "calc_anoms:True\n",
      "detrend:True\n",
      "value:0.6\n",
      "climatology:(1981, 2010)\n",
      "period:(1979, 2014)\n",
      "extracted_coords:[200.0, -22.0]\n",
      "distance_point:87.56368858840081\n",
      "trend_params:{'intercept': -60.965016377755163, 'slope': 0.030535947029886677}\n",
      "category:WA\n",
      "analog_years:[1982, 1997, 1999, 2000, 2001, 2006, 2009]\n",
      "}\n"
     ]
    }
   ],
   "source": [
    "p.proxy_repr(pprint=True)"
   ]
  },
  {
   "cell_type": "code",
   "execution_count": 12,
   "metadata": {
    "collapsed": true
   },
   "outputs": [],
   "source": [
    "indice = indices(p)"
   ]
  },
  {
   "cell_type": "code",
   "execution_count": 13,
   "metadata": {
    "collapsed": true
   },
   "outputs": [],
   "source": [
    "indice.composite()"
   ]
  },
  {
   "cell_type": "code",
   "execution_count": 14,
   "metadata": {
    "collapsed": false
   },
   "outputs": [
    {
     "data": {
      "text/plain": [
       "SOI         0.372481\n",
       "IOD         0.760739\n",
       "NINO 3.4    0.555699\n",
       "SAM         1.001978\n",
       "dtype: float64"
      ]
     },
     "execution_count": 14,
     "metadata": {},
     "output_type": "execute_result"
    }
   ],
   "source": [
    "indice.compos.std()"
   ]
  },
  {
   "cell_type": "code",
   "execution_count": 15,
   "metadata": {
    "collapsed": false
   },
   "outputs": [
    {
     "data": {
      "image/png": "[encoded data removed]",
      "text/plain": [
       "<matplotlib.figure.Figure at 0x11d4a0e10>"
      ]
     },
     "metadata": {},
     "output_type": "display_data"
    }
   ],
   "source": [
    "f = indices(p).plot()"
   ]
  },
  {
   "cell_type": "code",
   "execution_count": 16,
   "metadata": {
    "collapsed": true
   },
   "outputs": [],
   "source": [
    "plt.plot?"
   ]
  },
  {
   "cell_type": "markdown",
   "metadata": {},
   "source": [
    "### second example, we use an `ensemble` instance"
   ]
  },
  {
   "cell_type": "code",
   "execution_count": 17,
   "metadata": {
    "collapsed": false
   },
   "outputs": [],
   "source": [
    "from paleopy import ensemble"
   ]
  },
  {
   "cell_type": "code",
   "execution_count": 18,
   "metadata": {
    "collapsed": true
   },
   "outputs": [],
   "source": [
    "djsons = '../jsons/'\n",
    "pjsons = '../jsons/proxies'"
   ]
  },
  {
   "cell_type": "code",
   "execution_count": 19,
   "metadata": {
    "collapsed": false
   },
   "outputs": [],
   "source": [
    "ens = ensemble(djsons=djsons, pjsons=pjsons, season='DJF')"
   ]
  },
  {
   "cell_type": "code",
   "execution_count": 20,
   "metadata": {
    "collapsed": false
   },
   "outputs": [
    {
     "data": {
      "image/png": "[encoded data removed]",
      "text/plain": [
       "<matplotlib.figure.Figure at 0x11d712d68>"
      ]
     },
     "metadata": {},
     "output_type": "display_data"
    }
   ],
   "source": [
    "f = indices(ens).plot()"
   ]
  },
  {
   "cell_type": "code",
   "execution_count": 26,
   "metadata": {
    "collapsed": true
   },
   "outputs": [],
   "source": [
    "obj = indices(ens)"
   ]
  },
  {
   "cell_type": "code",
   "execution_count": 28,
   "metadata": {
    "collapsed": false
   },
   "outputs": [],
   "source": [
    "obj.composite()"
   ]
  },
  {
   "cell_type": "code",
   "execution_count": 29,
   "metadata": {
    "collapsed": false
   },
   "outputs": [
    {
     "data": {
      "text/html": [
       "<div>\n",
       "<table border=\"1\" class=\"dataframe\">\n",
       "  <thead>\n",
       "    <tr style=\"text-align: right;\">\n",
       "      <th></th>\n",
       "      <th>SOI</th>\n",
       "      <th>IOD</th>\n",
       "      <th>NINO 3.4</th>\n",
       "      <th>SAM</th>\n",
       "    </tr>\n",
       "  </thead>\n",
       "  <tbody>\n",
       "    <tr>\n",
       "      <th>1982-02-01</th>\n",
       "      <td>0.471084</td>\n",
       "      <td>0.544804</td>\n",
       "      <td>0.032729</td>\n",
       "      <td>1.001330</td>\n",
       "    </tr>\n",
       "    <tr>\n",
       "      <th>1983-02-01</th>\n",
       "      <td>-3.334026</td>\n",
       "      <td>-1.247018</td>\n",
       "      <td>2.290533</td>\n",
       "      <td>-1.293228</td>\n",
       "    </tr>\n",
       "    <tr>\n",
       "      <th>1984-02-01</th>\n",
       "      <td>0.146607</td>\n",
       "      <td>-0.347224</td>\n",
       "      <td>-0.365314</td>\n",
       "      <td>0.016626</td>\n",
       "    </tr>\n",
       "    <tr>\n",
       "      <th>1988-02-01</th>\n",
       "      <td>-0.511182</td>\n",
       "      <td>0.360575</td>\n",
       "      <td>0.778640</td>\n",
       "      <td>0.468226</td>\n",
       "    </tr>\n",
       "    <tr>\n",
       "      <th>1989-02-01</th>\n",
       "      <td>1.165873</td>\n",
       "      <td>-0.546309</td>\n",
       "      <td>-1.689892</td>\n",
       "      <td>1.351200</td>\n",
       "    </tr>\n",
       "    <tr>\n",
       "      <th>1991-02-01</th>\n",
       "      <td>0.009771</td>\n",
       "      <td>-0.058617</td>\n",
       "      <td>0.460875</td>\n",
       "      <td>0.174011</td>\n",
       "    </tr>\n",
       "    <tr>\n",
       "      <th>1992-02-01</th>\n",
       "      <td>-2.107673</td>\n",
       "      <td>-0.453118</td>\n",
       "      <td>1.785453</td>\n",
       "      <td>-1.386748</td>\n",
       "    </tr>\n",
       "    <tr>\n",
       "      <th>1993-02-01</th>\n",
       "      <td>-0.929041</td>\n",
       "      <td>-0.095079</td>\n",
       "      <td>0.340459</td>\n",
       "      <td>-0.492946</td>\n",
       "    </tr>\n",
       "    <tr>\n",
       "      <th>1994-02-01</th>\n",
       "      <td>-0.081063</td>\n",
       "      <td>-0.432712</td>\n",
       "      <td>0.243457</td>\n",
       "      <td>1.374772</td>\n",
       "    </tr>\n",
       "    <tr>\n",
       "      <th>1995-02-01</th>\n",
       "      <td>-0.835257</td>\n",
       "      <td>0.171933</td>\n",
       "      <td>1.223511</td>\n",
       "      <td>1.322257</td>\n",
       "    </tr>\n",
       "    <tr>\n",
       "      <th>1997-02-01</th>\n",
       "      <td>0.813785</td>\n",
       "      <td>-0.181042</td>\n",
       "      <td>-0.365314</td>\n",
       "      <td>0.124978</td>\n",
       "    </tr>\n",
       "    <tr>\n",
       "      <th>1999-02-01</th>\n",
       "      <td>1.347353</td>\n",
       "      <td>-0.907732</td>\n",
       "      <td>-1.375472</td>\n",
       "      <td>1.252810</td>\n",
       "    </tr>\n",
       "    <tr>\n",
       "      <th>2000-02-01</th>\n",
       "      <td>1.066006</td>\n",
       "      <td>0.434085</td>\n",
       "      <td>-1.569476</td>\n",
       "      <td>1.533521</td>\n",
       "    </tr>\n",
       "    <tr>\n",
       "      <th>2001-02-01</th>\n",
       "      <td>0.970974</td>\n",
       "      <td>1.131153</td>\n",
       "      <td>-0.589422</td>\n",
       "      <td>-0.816528</td>\n",
       "    </tr>\n",
       "    <tr>\n",
       "      <th>2002-02-01</th>\n",
       "      <td>-0.111357</td>\n",
       "      <td>0.176016</td>\n",
       "      <td>-0.044204</td>\n",
       "      <td>1.176070</td>\n",
       "    </tr>\n",
       "    <tr>\n",
       "      <th>2003-02-01</th>\n",
       "      <td>-0.882480</td>\n",
       "      <td>-0.787121</td>\n",
       "      <td>1.213476</td>\n",
       "      <td>-0.206629</td>\n",
       "    </tr>\n",
       "    <tr>\n",
       "      <th>2004-02-01</th>\n",
       "      <td>0.144628</td>\n",
       "      <td>-0.130119</td>\n",
       "      <td>0.420736</td>\n",
       "      <td>-0.841921</td>\n",
       "    </tr>\n",
       "    <tr>\n",
       "      <th>2005-02-01</th>\n",
       "      <td>-1.380674</td>\n",
       "      <td>-1.435313</td>\n",
       "      <td>0.705052</td>\n",
       "      <td>-0.149785</td>\n",
       "    </tr>\n",
       "    <tr>\n",
       "      <th>2006-02-01</th>\n",
       "      <td>0.415971</td>\n",
       "      <td>-0.851495</td>\n",
       "      <td>-0.719873</td>\n",
       "      <td>-1.017501</td>\n",
       "    </tr>\n",
       "    <tr>\n",
       "      <th>2007-02-01</th>\n",
       "      <td>-0.607049</td>\n",
       "      <td>0.960839</td>\n",
       "      <td>0.822124</td>\n",
       "      <td>-0.088077</td>\n",
       "    </tr>\n",
       "    <tr>\n",
       "      <th>2008-02-01</th>\n",
       "      <td>1.775034</td>\n",
       "      <td>-0.557374</td>\n",
       "      <td>-1.378817</td>\n",
       "      <td>1.285515</td>\n",
       "    </tr>\n",
       "    <tr>\n",
       "      <th>2009-02-01</th>\n",
       "      <td>1.319047</td>\n",
       "      <td>0.418646</td>\n",
       "      <td>-0.696459</td>\n",
       "      <td>0.691977</td>\n",
       "    </tr>\n",
       "    <tr>\n",
       "      <th>2011-02-01</th>\n",
       "      <td>2.556098</td>\n",
       "      <td>0.135946</td>\n",
       "      <td>-1.248366</td>\n",
       "      <td>0.044729</td>\n",
       "    </tr>\n",
       "  </tbody>\n",
       "</table>\n",
       "</div>"
      ],
      "text/plain": [
       "                 SOI       IOD  NINO 3.4       SAM\n",
       "1982-02-01  0.471084  0.544804  0.032729  1.001330\n",
       "1983-02-01 -3.334026 -1.247018  2.290533 -1.293228\n",
       "1984-02-01  0.146607 -0.347224 -0.365314  0.016626\n",
       "1988-02-01 -0.511182  0.360575  0.778640  0.468226\n",
       "1989-02-01  1.165873 -0.546309 -1.689892  1.351200\n",
       "1991-02-01  0.009771 -0.058617  0.460875  0.174011\n",
       "1992-02-01 -2.107673 -0.453118  1.785453 -1.386748\n",
       "1993-02-01 -0.929041 -0.095079  0.340459 -0.492946\n",
       "1994-02-01 -0.081063 -0.432712  0.243457  1.374772\n",
       "1995-02-01 -0.835257  0.171933  1.223511  1.322257\n",
       "1997-02-01  0.813785 -0.181042 -0.365314  0.124978\n",
       "1999-02-01  1.347353 -0.907732 -1.375472  1.252810\n",
       "2000-02-01  1.066006  0.434085 -1.569476  1.533521\n",
       "2001-02-01  0.970974  1.131153 -0.589422 -0.816528\n",
       "2002-02-01 -0.111357  0.176016 -0.044204  1.176070\n",
       "2003-02-01 -0.882480 -0.787121  1.213476 -0.206629\n",
       "2004-02-01  0.144628 -0.130119  0.420736 -0.841921\n",
       "2005-02-01 -1.380674 -1.435313  0.705052 -0.149785\n",
       "2006-02-01  0.415971 -0.851495 -0.719873 -1.017501\n",
       "2007-02-01 -0.607049  0.960839  0.822124 -0.088077\n",
       "2008-02-01  1.775034 -0.557374 -1.378817  1.285515\n",
       "2009-02-01  1.319047  0.418646 -0.696459  0.691977\n",
       "2011-02-01  2.556098  0.135946 -1.248366  0.044729"
      ]
     },
     "execution_count": 29,
     "metadata": {},
     "output_type": "execute_result"
    }
   ],
   "source": [
    "obj.compos"
   ]
  },
  {
   "cell_type": "code",
   "execution_count": 30,
   "metadata": {
    "collapsed": false
   },
   "outputs": [
    {
     "data": {
      "text/html": [
       "<div>\n",
       "<table border=\"1\" class=\"dataframe\">\n",
       "  <thead>\n",
       "    <tr style=\"text-align: right;\">\n",
       "      <th></th>\n",
       "      <th>SOI</th>\n",
       "      <th>IOD</th>\n",
       "      <th>NINO 3.4</th>\n",
       "      <th>SAM</th>\n",
       "    </tr>\n",
       "  </thead>\n",
       "  <tbody>\n",
       "    <tr>\n",
       "      <th>1982-02-01</th>\n",
       "      <td>0.471084</td>\n",
       "      <td>0.544804</td>\n",
       "      <td>0.032729</td>\n",
       "      <td>1.001330</td>\n",
       "    </tr>\n",
       "    <tr>\n",
       "      <th>1997-02-01</th>\n",
       "      <td>0.813785</td>\n",
       "      <td>-0.181042</td>\n",
       "      <td>-0.365314</td>\n",
       "      <td>0.124978</td>\n",
       "    </tr>\n",
       "    <tr>\n",
       "      <th>1999-02-01</th>\n",
       "      <td>1.347353</td>\n",
       "      <td>-0.907732</td>\n",
       "      <td>-1.375472</td>\n",
       "      <td>1.252810</td>\n",
       "    </tr>\n",
       "    <tr>\n",
       "      <th>2000-02-01</th>\n",
       "      <td>1.066006</td>\n",
       "      <td>0.434085</td>\n",
       "      <td>-1.569476</td>\n",
       "      <td>1.533521</td>\n",
       "    </tr>\n",
       "    <tr>\n",
       "      <th>2001-02-01</th>\n",
       "      <td>0.970974</td>\n",
       "      <td>1.131153</td>\n",
       "      <td>-0.589422</td>\n",
       "      <td>-0.816528</td>\n",
       "    </tr>\n",
       "    <tr>\n",
       "      <th>2006-02-01</th>\n",
       "      <td>0.415971</td>\n",
       "      <td>-0.851495</td>\n",
       "      <td>-0.719873</td>\n",
       "      <td>-1.017501</td>\n",
       "    </tr>\n",
       "    <tr>\n",
       "      <th>2009-02-01</th>\n",
       "      <td>1.319047</td>\n",
       "      <td>0.418646</td>\n",
       "      <td>-0.696459</td>\n",
       "      <td>0.691977</td>\n",
       "    </tr>\n",
       "  </tbody>\n",
       "</table>\n",
       "</div>"
      ],
      "text/plain": [
       "                 SOI       IOD  NINO 3.4       SAM\n",
       "1982-02-01  0.471084  0.544804  0.032729  1.001330\n",
       "1997-02-01  0.813785 -0.181042 -0.365314  0.124978\n",
       "1999-02-01  1.347353 -0.907732 -1.375472  1.252810\n",
       "2000-02-01  1.066006  0.434085 -1.569476  1.533521\n",
       "2001-02-01  0.970974  1.131153 -0.589422 -0.816528\n",
       "2006-02-01  0.415971 -0.851495 -0.719873 -1.017501\n",
       "2009-02-01  1.319047  0.418646 -0.696459  0.691977"
      ]
     },
     "execution_count": 30,
     "metadata": {},
     "output_type": "execute_result"
    }
   ],
   "source": [
    "indice.compos"
   ]
  }
 ],
 "metadata": {
  "kernelspec": {
   "display_name": "Python 3",
   "language": "python",
   "name": "python3"
  },
  "language_info": {
   "codemirror_mode": {
    "name": "ipython",
    "version": 3
   },
   "file_extension": ".py",
   "mimetype": "text/x-python",
   "name": "python",
   "nbconvert_exporter": "python",
   "pygments_lexer": "ipython3",
   "version": "3.5.1"
  },
  "latex_envs": {
   "bibliofile": "biblio.bib",
   "cite_by": "apalike",
   "current_citInitial": 1,
   "eqLabelWithNumbers": true,
   "eqNumInitial": 0
  }
 },
 "nbformat": 4,
 "nbformat_minor": 0
}
