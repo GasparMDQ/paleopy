{
 "cells": [
  {
   "cell_type": "markdown",
   "metadata": {},
   "source": [
    "# illustrates the use of the `indices` class"
   ]
  },
  {
   "cell_type": "code",
   "execution_count": 1,
   "metadata": {
    "collapsed": true
   },
   "outputs": [],
   "source": [
    "%matplotlib inline\n",
    "import matplotlib.pyplot as plt"
   ]
  },
  {
   "cell_type": "code",
   "execution_count": 2,
   "metadata": {
    "collapsed": true
   },
   "outputs": [],
   "source": [
    "import sys"
   ]
  },
  {
   "cell_type": "markdown",
   "metadata": {},
   "source": [
    "### import the development version of paleopy"
   ]
  },
  {
   "cell_type": "code",
   "execution_count": 3,
   "metadata": {
    "collapsed": false
   },
   "outputs": [],
   "source": [
    "sys.path.append('../')"
   ]
  },
  {
   "cell_type": "code",
   "execution_count": 4,
   "metadata": {
    "collapsed": false
   },
   "outputs": [],
   "source": [
    "from paleopy import proxy \n",
    "from paleopy import analogs\n",
    "from paleopy.plotting import indices"
   ]
  },
  {
   "cell_type": "markdown",
   "metadata": {},
   "source": [
    "### first example, defines one proxy"
   ]
  },
  {
   "cell_type": "code",
   "execution_count": 5,
   "metadata": {
    "collapsed": true
   },
   "outputs": [],
   "source": [
    "djsons = '../jsons/'\n",
    "pjsons = '../jsons/proxies'"
   ]
  },
  {
   "cell_type": "code",
   "execution_count": 7,
   "metadata": {
    "collapsed": false
   },
   "outputs": [],
   "source": [
    "p = proxy(sitename='Rarotonga', \\\n",
    "          lon = -159.82, \\\n",
    "          lat = -21.23, \\\n",
    "          djsons = djsons, \\\n",
    "          pjsons = pjsons, \\\n",
    "          pfname = 'Rarotonga.json', \\\n",
    "          dataset = 'ersst', \\\n",
    "          variable ='sst', \\\n",
    "          measurement ='delta O18', \\\n",
    "          dating_convention = 'absolute', \\\n",
    "          calendar = 'gregorian',\\\n",
    "          chronology = 'historic', \\\n",
    "          season = 'DJF', \\\n",
    "          value = 0.6, \\\n",
    "          calc_anoms = 1, \\\n",
    "          detrend = 1)"
   ]
  },
  {
   "cell_type": "code",
   "execution_count": 8,
   "metadata": {
    "collapsed": false
   },
   "outputs": [],
   "source": [
    "p.find_analogs()"
   ]
  },
  {
   "cell_type": "code",
   "execution_count": 9,
   "metadata": {
    "collapsed": false
   },
   "outputs": [
    {
     "data": {
      "text/plain": [
       "array([1982, 1997, 1999, 2000, 2001, 2006, 2009], dtype=int32)"
      ]
     },
     "execution_count": 9,
     "metadata": {},
     "output_type": "execute_result"
    }
   ],
   "source": [
    "p.analog_years"
   ]
  },
  {
   "cell_type": "code",
   "execution_count": 10,
   "metadata": {
    "collapsed": false
   },
   "outputs": [
    {
     "data": {
      "text/html": [
       "<div>\n",
       "<table border=\"1\" class=\"dataframe\">\n",
       "  <thead>\n",
       "    <tr style=\"text-align: right;\">\n",
       "      <th></th>\n",
       "      <th>d_anomalies</th>\n",
       "      <th>cat</th>\n",
       "      <th>weights</th>\n",
       "    </tr>\n",
       "    <tr>\n",
       "      <th>time</th>\n",
       "      <th></th>\n",
       "      <th></th>\n",
       "      <th></th>\n",
       "    </tr>\n",
       "  </thead>\n",
       "  <tbody>\n",
       "    <tr>\n",
       "      <th>1982-02-15</th>\n",
       "      <td>0.638992</td>\n",
       "      <td>WA</td>\n",
       "      <td>0.156455</td>\n",
       "    </tr>\n",
       "    <tr>\n",
       "      <th>1997-02-15</th>\n",
       "      <td>0.747619</td>\n",
       "      <td>WA</td>\n",
       "      <td>0.128005</td>\n",
       "    </tr>\n",
       "    <tr>\n",
       "      <th>1999-02-15</th>\n",
       "      <td>0.736547</td>\n",
       "      <td>WA</td>\n",
       "      <td>0.130905</td>\n",
       "    </tr>\n",
       "    <tr>\n",
       "      <th>2000-02-15</th>\n",
       "      <td>0.612678</td>\n",
       "      <td>WA</td>\n",
       "      <td>0.163346</td>\n",
       "    </tr>\n",
       "    <tr>\n",
       "      <th>2001-02-15</th>\n",
       "      <td>0.565475</td>\n",
       "      <td>WA</td>\n",
       "      <td>0.157625</td>\n",
       "    </tr>\n",
       "    <tr>\n",
       "      <th>2006-02-15</th>\n",
       "      <td>0.429462</td>\n",
       "      <td>WA</td>\n",
       "      <td>0.122003</td>\n",
       "    </tr>\n",
       "    <tr>\n",
       "      <th>2009-02-15</th>\n",
       "      <td>0.504521</td>\n",
       "      <td>WA</td>\n",
       "      <td>0.141661</td>\n",
       "    </tr>\n",
       "  </tbody>\n",
       "</table>\n",
       "</div>"
      ],
      "text/plain": [
       "            d_anomalies cat   weights\n",
       "time                                 \n",
       "1982-02-15     0.638992  WA  0.156455\n",
       "1997-02-15     0.747619  WA  0.128005\n",
       "1999-02-15     0.736547  WA  0.130905\n",
       "2000-02-15     0.612678  WA  0.163346\n",
       "2001-02-15     0.565475  WA  0.157625\n",
       "2006-02-15     0.429462  WA  0.122003\n",
       "2009-02-15     0.504521  WA  0.141661"
      ]
     },
     "execution_count": 10,
     "metadata": {},
     "output_type": "execute_result"
    }
   ],
   "source": [
    "p.analogs"
   ]
  },
  {
   "cell_type": "code",
   "execution_count": 11,
   "metadata": {
    "collapsed": false
   },
   "outputs": [
    {
     "data": {
      "image/png": "[encoded data removed]",
      "text/plain": [
       "<matplotlib.figure.Figure at 0x11a540668>"
      ]
     },
     "metadata": {},
     "output_type": "display_data"
    }
   ],
   "source": [
    "f = p.plot_season_ts()"
   ]
  },
  {
   "cell_type": "code",
   "execution_count": 12,
   "metadata": {
    "collapsed": false
   },
   "outputs": [
    {
     "name": "stdout",
     "output_type": "stream",
     "text": [
      "{\n",
      "sitename:Rarotonga\n",
      "proxy_type:None\n",
      "measurement:delta O18\n",
      "dating_convention:absolute\n",
      "calendar:gregorian\n",
      "chronology:historic\n",
      "coords:(200.18, -21.23)\n",
      "aspect:None\n",
      "elevation:None\n",
      "season:DJF\n",
      "dataset:ersst\n",
      "variable:sst\n",
      "calc_anoms:True\n",
      "detrend:True\n",
      "value:0.6\n",
      "climatology:(1981, 2010)\n",
      "period:(1979, 2014)\n",
      "extracted_coords:[200.0, -22.0]\n",
      "distance_point:87.56368858840081\n",
      "trend_params:{'slope': 0.030535947029886677, 'intercept': -60.965016377755163}\n",
      "category:WA\n",
      "analog_years:[1982, 1997, 1999, 2000, 2001, 2006, 2009]\n",
      "weights:[0.15645480307020584, 0.12800536294956205, 0.13090508326029401, 0.16334634614636281, 0.15762466128135916, 0.1220029495538857, 0.1416607937383304]\n",
      "}\n"
     ]
    }
   ],
   "source": [
    "p.proxy_repr(pprint=True)"
   ]
  },
  {
   "cell_type": "code",
   "execution_count": 13,
   "metadata": {
    "collapsed": true
   },
   "outputs": [],
   "source": [
    "indice = indices(p)"
   ]
  },
  {
   "cell_type": "code",
   "execution_count": 14,
   "metadata": {
    "collapsed": true
   },
   "outputs": [],
   "source": [
    "indice.composite()"
   ]
  },
  {
   "cell_type": "code",
   "execution_count": 15,
   "metadata": {
    "collapsed": false
   },
   "outputs": [
    {
     "data": {
      "text/plain": [
       "NINO34    0.555699\n",
       "SAM       1.001978\n",
       "IOD       0.760739\n",
       "SOI       0.372481\n",
       "dtype: float64"
      ]
     },
     "execution_count": 15,
     "metadata": {},
     "output_type": "execute_result"
    }
   ],
   "source": [
    "indice.compos.std()"
   ]
  },
  {
   "cell_type": "code",
   "execution_count": 16,
   "metadata": {
    "collapsed": false
   },
   "outputs": [
    {
     "data": {
      "image/png": "[encoded data removed]",
      "text/plain": [
       "<matplotlib.figure.Figure at 0x11d595e80>"
      ]
     },
     "metadata": {},
     "output_type": "display_data"
    }
   ],
   "source": [
    "f = indices(p).plot()"
   ]
  },
  {
   "cell_type": "markdown",
   "metadata": {},
   "source": [
    "### second example, we use an `ensemble` instance"
   ]
  },
  {
   "cell_type": "code",
   "execution_count": 18,
   "metadata": {
    "collapsed": false
   },
   "outputs": [],
   "source": [
    "from paleopy import ensemble"
   ]
  },
  {
   "cell_type": "code",
   "execution_count": 19,
   "metadata": {
    "collapsed": true
   },
   "outputs": [],
   "source": [
    "djsons = '../jsons/'\n",
    "pjsons = '../jsons/proxies'"
   ]
  },
  {
   "cell_type": "code",
   "execution_count": 20,
   "metadata": {
    "collapsed": false
   },
   "outputs": [],
   "source": [
    "ens = ensemble(djsons=djsons, pjsons=pjsons, season='DJF')"
   ]
  },
  {
   "cell_type": "code",
   "execution_count": 21,
   "metadata": {
    "collapsed": false
   },
   "outputs": [
    {
     "data": {
      "image/png": "[encoded data removed]",
      "text/plain": [
       "<matplotlib.figure.Figure at 0x11d6e5b00>"
      ]
     },
     "metadata": {},
     "output_type": "display_data"
    }
   ],
   "source": [
    "f = indices(ens).plot()"
   ]
  },
  {
   "cell_type": "code",
   "execution_count": 29,
   "metadata": {
    "collapsed": true
   },
   "outputs": [],
   "source": [
    "obj = indices(p)"
   ]
  },
  {
   "cell_type": "code",
   "execution_count": 30,
   "metadata": {
    "collapsed": false
   },
   "outputs": [],
   "source": [
    "obj.composite()"
   ]
  },
  {
   "cell_type": "code",
   "execution_count": 31,
   "metadata": {
    "collapsed": false
   },
   "outputs": [
    {
     "data": {
      "text/html": [
       "<div>\n",
       "<table border=\"1\" class=\"dataframe\">\n",
       "  <thead>\n",
       "    <tr style=\"text-align: right;\">\n",
       "      <th></th>\n",
       "      <th>NINO34</th>\n",
       "      <th>SAM</th>\n",
       "      <th>IOD</th>\n",
       "      <th>SOI</th>\n",
       "    </tr>\n",
       "  </thead>\n",
       "  <tbody>\n",
       "    <tr>\n",
       "      <th>1982-02-01</th>\n",
       "      <td>0.032729</td>\n",
       "      <td>1.001330</td>\n",
       "      <td>0.544804</td>\n",
       "      <td>0.471084</td>\n",
       "    </tr>\n",
       "    <tr>\n",
       "      <th>1997-02-01</th>\n",
       "      <td>-0.365314</td>\n",
       "      <td>0.124978</td>\n",
       "      <td>-0.181042</td>\n",
       "      <td>0.813785</td>\n",
       "    </tr>\n",
       "    <tr>\n",
       "      <th>1999-02-01</th>\n",
       "      <td>-1.375472</td>\n",
       "      <td>1.252810</td>\n",
       "      <td>-0.907732</td>\n",
       "      <td>1.347353</td>\n",
       "    </tr>\n",
       "    <tr>\n",
       "      <th>2000-02-01</th>\n",
       "      <td>-1.569476</td>\n",
       "      <td>1.533521</td>\n",
       "      <td>0.434085</td>\n",
       "      <td>1.066006</td>\n",
       "    </tr>\n",
       "    <tr>\n",
       "      <th>2001-02-01</th>\n",
       "      <td>-0.589422</td>\n",
       "      <td>-0.816528</td>\n",
       "      <td>1.131153</td>\n",
       "      <td>0.970974</td>\n",
       "    </tr>\n",
       "    <tr>\n",
       "      <th>2006-02-01</th>\n",
       "      <td>-0.719873</td>\n",
       "      <td>-1.017501</td>\n",
       "      <td>-0.851495</td>\n",
       "      <td>0.415971</td>\n",
       "    </tr>\n",
       "    <tr>\n",
       "      <th>2009-02-01</th>\n",
       "      <td>-0.696459</td>\n",
       "      <td>0.691977</td>\n",
       "      <td>0.418646</td>\n",
       "      <td>1.319047</td>\n",
       "    </tr>\n",
       "  </tbody>\n",
       "</table>\n",
       "</div>"
      ],
      "text/plain": [
       "              NINO34       SAM       IOD       SOI\n",
       "1982-02-01  0.032729  1.001330  0.544804  0.471084\n",
       "1997-02-01 -0.365314  0.124978 -0.181042  0.813785\n",
       "1999-02-01 -1.375472  1.252810 -0.907732  1.347353\n",
       "2000-02-01 -1.569476  1.533521  0.434085  1.066006\n",
       "2001-02-01 -0.589422 -0.816528  1.131153  0.970974\n",
       "2006-02-01 -0.719873 -1.017501 -0.851495  0.415971\n",
       "2009-02-01 -0.696459  0.691977  0.418646  1.319047"
      ]
     },
     "execution_count": 31,
     "metadata": {},
     "output_type": "execute_result"
    }
   ],
   "source": [
    "obj.compos"
   ]
  },
  {
   "cell_type": "code",
   "execution_count": null,
   "metadata": {
    "collapsed": true
   },
   "outputs": [],
   "source": []
  }
 ],
 "metadata": {
  "kernelspec": {
   "display_name": "Python 3",
   "language": "python",
   "name": "python3"
  },
  "language_info": {
   "codemirror_mode": {
    "name": "ipython",
    "version": 3
   },
   "file_extension": ".py",
   "mimetype": "text/x-python",
   "name": "python",
   "nbconvert_exporter": "python",
   "pygments_lexer": "ipython3",
   "version": "3.5.1"
  },
  "latex_envs": {
   "bibliofile": "biblio.bib",
   "cite_by": "apalike",
   "current_citInitial": 1,
   "eqLabelWithNumbers": true,
   "eqNumInitial": 0
  }
 },
 "nbformat": 4,
 "nbformat_minor": 0
}
