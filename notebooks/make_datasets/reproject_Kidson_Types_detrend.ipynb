{
 "cells": [
  {
   "cell_type": "markdown",
   "metadata": {},
   "source": [
    "### reprojects the Kidson types in a detrended version of the NCEP / NCAR dataset"
   ]
  },
  {
   "cell_type": "code",
   "execution_count": 2,
   "metadata": {
    "collapsed": true
   },
   "outputs": [],
   "source": [
    "%matplotlib inline"
   ]
  },
  {
   "cell_type": "code",
   "execution_count": 14,
   "metadata": {
    "collapsed": true
   },
   "outputs": [],
   "source": [
    "import os, sys\n",
    "import numpy as np\n",
    "from numpy import ma\n",
    "from matplotlib import pyplot as plt\n",
    "from mpl_toolkits.basemap import Basemap\n",
    "from netCDF4 import Dataset\n",
    "import netcdftime\n",
    "from scipy.stats import zscore\n",
    "from scipy.io.matlab import loadmat, whosmat\n",
    "from matplotlib.mlab import detrend_linear"
   ]
  },
  {
   "cell_type": "code",
   "execution_count": 7,
   "metadata": {
    "collapsed": true
   },
   "outputs": [],
   "source": [
    "dpath = os.path.join(os.environ['HOME'], 'data')\n",
    "kid_path = os.path.join(dpath + \"/KidsonTypes/\")"
   ]
  },
  {
   "cell_type": "code",
   "execution_count": 5,
   "metadata": {
    "collapsed": true
   },
   "outputs": [],
   "source": [
    "def euclid(v1,v2):\n",
    "    from scipy.stats import zscore\n",
    "    '''Squared Euclidean Distance between two scalars or equally matched vectors\n",
    "    \n",
    "       USAGE: d = euclid(v1,v2)'''\n",
    "    v1 = zscore(v1.flatten())\n",
    "    v2 = zscore(v2.flatten())\n",
    "    d2= np.sqrt(np.sum((v1-v2)**2))                                                                                                                                                                               \n",
    "    return d2\n",
    "\n",
    "def find_cluster(list_clus, dict_clus, X):\n",
    "    \"\"\"\n",
    "    must return a list with \n",
    "    indice (time)\n",
    "    name of attributed cluster\n",
    "    position in list (indice)\n",
    "    distance \n",
    "    difference with closest distance (separation index)\n",
    "    \"\"\"\n",
    "    data_list = []\n",
    "    for t in range(X.shape[0]):\n",
    "        dlist = []\n",
    "        for clus_name in list_clus:\n",
    "            dlist.append(euclid(dict_clus[clus_name], X[t,...]))\n",
    "            ranks = np.argsort(dlist)\n",
    "            index = np.argmin(dlist)\n",
    "        data_list.append([t, list_clus[index], index, dlist])\n",
    "    return data_list"
   ]
  },
  {
   "cell_type": "code",
   "execution_count": 8,
   "metadata": {
    "collapsed": true
   },
   "outputs": [],
   "source": [
    "fname = \"clusters_daily.mat\"\n",
    "\n",
    "matfile = loadmat(kid_path + fname, struct_as_record=False)\n",
    "\n",
    "clusters = matfile['clusters'][0,0]\n",
    "\n",
    "tclus = clusters.time"
   ]
  },
  {
   "cell_type": "code",
   "execution_count": 9,
   "metadata": {
    "collapsed": true
   },
   "outputs": [],
   "source": [
    "a = np.where( tclus[:,0] >= 1948)[0][0]\n",
    "z = np.where( tclus[:,0] <= 2014)[0][-1] + 1 "
   ]
  },
  {
   "cell_type": "code",
   "execution_count": 10,
   "metadata": {
    "collapsed": true
   },
   "outputs": [],
   "source": [
    "tclus = tclus[a:z,...]"
   ]
  },
  {
   "cell_type": "code",
   "execution_count": 12,
   "metadata": {
    "collapsed": true
   },
   "outputs": [],
   "source": [
    "name = clusters.name\n",
    "name = name[a:z,...]\n",
    "\n",
    "### makes the names and types flat for lookup \n",
    "names = []\n",
    "for nm in name:\n",
    "    names.append(str(nm[0][0]))\n",
    "names = np.array(names)\n",
    "del(name)"
   ]
  },
  {
   "cell_type": "code",
   "execution_count": 13,
   "metadata": {
    "collapsed": true
   },
   "outputs": [],
   "source": [
    "### ==============================================================================================================\n",
    "### that above for comparison with the recalculated Kidson's types '\n",
    "\n",
    "x = loadmat(os.path.join(dpath, \"KidsonTypes\", \"h1000_clus.mat\"), struct_as_record=False)\n",
    "x = x['h1000']\n",
    "x = x[0,0]\n",
    "x.data.shape\n",
    "\n",
    "# restrict the dataset to 1972 - 2010\n",
    "\n",
    "a = np.where( (x.time[:,0] >= 1948) )[0][0]\n",
    "z = np.where( (x.time[:,0] <= 2014) )[0][-1] + 1\n",
    "\n",
    "x.time = x.time[a:z,...]\n",
    "x.data = x.data[a:z,...]"
   ]
  },
  {
   "cell_type": "code",
   "execution_count": 16,
   "metadata": {
    "collapsed": false
   },
   "outputs": [],
   "source": [
    "### ==============================================================================================================\n",
    "### detrend the data itself ?\n",
    "\n",
    "datad = np.empty(x.data.shape)\n",
    "\n",
    "for i in range(x.data.shape[1]):\n",
    "    datad[:,i] = detrend_linear(x.data[:,i])\n",
    "\n",
    "x.data = datad\n",
    "\n",
    "clus_eof_file = loadmat(os.path.join(dpath, \"KidsonTypes\", \"clus_eof.mat\"), struct_as_record=False)\n",
    "clus_eof = clus_eof_file['clus_eof'][0,0]\n",
    "\n",
    "### normalize \n",
    "za = x.data -  np.tile(clus_eof.mean.T, (x.data.shape[0],1))\n",
    "\n",
    "### multiply by the EOFs to get the Principal components \n",
    "pc = np.dot(za,clus_eof.vect)\n",
    "\n",
    "pc_mean = clus_eof_file['pc_mean']\n",
    "\n",
    "### normalize by the mean of the original PCs \n",
    "pc = pc - pc_mean\n",
    "\n",
    "# detrend the PRINCIPAL COMPONENTS \n",
    "pcd = np.empty_like(pc)\n",
    "for i in range(pc.shape[1]):\n",
    "    pcd[:,i] = detrend_linear(pc[:,i])\n",
    "\n",
    "### standardize by row \n",
    "\n",
    "pc = zscore(pc, axis=1)"
   ]
  },
  {
   "cell_type": "code",
   "execution_count": 17,
   "metadata": {
    "collapsed": true
   },
   "outputs": [],
   "source": [
    "### ==============================================================================================================\n",
    "### from James's code \n",
    "# clusname={'TSW','T','SW','NE','R','HW','HE','W','HNW','TNW','HSE','H'};                                                                                                                                       \n",
    "# regimes={{'TSW','T','SW','TNW'},{'W','HNW','H'},{'NE','R','HW','HE','HSE'}};\n",
    "# regname={'Trough','Zonal','Blocking'};\n",
    "\n",
    "list_clus = ['TSW','T','SW','NE','R','HW','HE','W','HNW','TNW','HSE','H']\n",
    "\n",
    "dict_clus = {}\n",
    "for i, k in enumerate(list_clus):\n",
    "    dict_clus[k] = clus_eof.clusmean[i,...]"
   ]
  },
  {
   "cell_type": "code",
   "execution_count": 18,
   "metadata": {
    "collapsed": true
   },
   "outputs": [],
   "source": [
    "data_list = find_cluster(list_clus, dict_clus, pc)\n",
    "data_listd = find_cluster(list_clus, dict_clus, pcd)"
   ]
  },
  {
   "cell_type": "code",
   "execution_count": 19,
   "metadata": {
    "collapsed": true
   },
   "outputs": [],
   "source": [
    "cluster_names_recalc = [data_list[i][1] for i in range(data_list.__len__())]\n",
    "cluster_names_recalcd = [data_listd[i][1] for i in range(data_listd.__len__())]"
   ]
  },
  {
   "cell_type": "code",
   "execution_count": 21,
   "metadata": {
    "collapsed": false
   },
   "outputs": [
    {
     "ename": "IndexError",
     "evalue": "list index out of range",
     "output_type": "error",
     "traceback": [
      "\u001b[0;31m---------------------------------------------------------------------------\u001b[0m",
      "\u001b[0;31mIndexError\u001b[0m                                Traceback (most recent call last)",
      "\u001b[0;32m<ipython-input-21-97c458420963>\u001b[0m in \u001b[0;36m<module>\u001b[0;34m()\u001b[0m\n\u001b[1;32m      2\u001b[0m \u001b[0mmatches\u001b[0m \u001b[0;34m=\u001b[0m \u001b[0;34m[\u001b[0m\u001b[0;34m]\u001b[0m\u001b[0;34m\u001b[0m\u001b[0m\n\u001b[1;32m      3\u001b[0m \u001b[0;32mfor\u001b[0m \u001b[0mi\u001b[0m \u001b[0;32min\u001b[0m \u001b[0mrange\u001b[0m\u001b[0;34m(\u001b[0m\u001b[0mlen\u001b[0m\u001b[0;34m(\u001b[0m\u001b[0mnames\u001b[0m\u001b[0;34m)\u001b[0m\u001b[0;34m)\u001b[0m\u001b[0;34m:\u001b[0m\u001b[0;34m\u001b[0m\u001b[0m\n\u001b[0;32m----> 4\u001b[0;31m     \u001b[0;32mif\u001b[0m \u001b[0mnames\u001b[0m\u001b[0;34m[\u001b[0m\u001b[0mi\u001b[0m\u001b[0;34m]\u001b[0m \u001b[0;34m==\u001b[0m \u001b[0mcluster_names_recalcd\u001b[0m\u001b[0;34m[\u001b[0m\u001b[0mi\u001b[0m\u001b[0;34m]\u001b[0m\u001b[0;34m:\u001b[0m\u001b[0;34m\u001b[0m\u001b[0m\n\u001b[0m\u001b[1;32m      5\u001b[0m         \u001b[0mmatches\u001b[0m\u001b[0;34m.\u001b[0m\u001b[0mappend\u001b[0m\u001b[0;34m(\u001b[0m\u001b[0;36m1\u001b[0m\u001b[0;34m)\u001b[0m\u001b[0;34m\u001b[0m\u001b[0m\n\u001b[1;32m      6\u001b[0m     \u001b[0;32melse\u001b[0m\u001b[0;34m:\u001b[0m\u001b[0;34m\u001b[0m\u001b[0m\n",
      "\u001b[0;31mIndexError\u001b[0m: list index out of range"
     ]
    }
   ],
   "source": [
    "### and see if it matches to the ones calculated previously by James \n",
    "matches = []\n",
    "for i in range(len(names)):\n",
    "    if names[i] == cluster_names_recalcd[i]:\n",
    "        matches.append(1)\n",
    "    else:\n",
    "        matches.append(0)\n",
    "\n",
    "matches.count(1)\n",
    "matches.count(0)\n",
    "\n",
    "clim_kid_rec = [ np.float(cluster_names_recalcd.count(nm)) / cluster_names_recalcd.__len__() for nm in list_clus]\n",
    "clim_kid_orig = [ np.float(names.tolist().count(nm)) / names.tolist().__len__() for nm in list_clus]"
   ]
  },
  {
   "cell_type": "code",
   "execution_count": 25,
   "metadata": {
    "collapsed": false
   },
   "outputs": [
    {
     "data": {
      "text/plain": [
       "46508"
      ]
     },
     "execution_count": 25,
     "metadata": {},
     "output_type": "execute_result"
    }
   ],
   "source": [
    "cluster_names_recalcd.__len__()"
   ]
  },
  {
   "cell_type": "code",
   "execution_count": null,
   "metadata": {
    "collapsed": true
   },
   "outputs": [],
   "source": [
    "### and see if it matches to the ones calculated previously by James \n",
    "matches = []\n",
    "for i in xrange(len(names)):\n",
    "    if names[i] == cluster_names_recalcd[i]:\n",
    "        matches.append(1)\n",
    "    else:\n",
    "        matches.append(0)\n",
    "\n",
    "matches.count(1)\n",
    "matches.count(0)\n",
    "\n",
    "clim_kid_rec = [ np.float(cluster_names_recalcd.count(nm)) / cluster_names_recalcd.__len__() for nm in list_clus]\n",
    "clim_kid_orig = [ np.float(names.tolist().count(nm)) / names.tolist().__len__() for nm in list_clus]"
   ]
  },
  {
   "cell_type": "code",
   "execution_count": null,
   "metadata": {
    "collapsed": true
   },
   "outputs": [],
   "source": [
    "### and see if it matches to the ones calculated previously by James \n",
    "matches = []\n",
    "for i in xrange(len(names)):\n",
    "    if names[i] == cluster_names_recalcd[i]:\n",
    "        matches.append(1)\n",
    "    else:\n",
    "        matches.append(0)\n",
    "\n",
    "matches.count(1)\n",
    "matches.count(0)\n",
    "\n",
    "clim_kid_rec = [ np.float(cluster_names_recalcd.count(nm)) / cluster_names_recalcd.__len__() for nm in list_clus]\n",
    "clim_kid_orig = [ np.float(names.tolist().count(nm)) / names.tolist().__len__() for nm in list_clus]\n",
    "\n",
    "### ==============================================================================================================\n",
    "### plot the CLIMATOLOGICAL distribution of kidson types for the given SEASON \n",
    "# fig = plt.figure()\n",
    "# ax = fig.add_subplot(111)\n",
    "# ax.set_title(\"Kidson types distribution\")\n",
    "# ax.bar(np.arange(0, 12), np.array(clim_kid_orig), color=\"0.8\", width=1.)\n",
    "# plt.axvline(4,color=\"r\", linewidth=2)\n",
    "# plt.axvline(7,color=\"r\", linewidth=2)\n",
    "# plt.text(0.08,0.9,\"Trough\",transform = ax.transAxes, bbox=dict(facecolor='w', alpha=0.5), fontsize=18)\n",
    "# plt.text(0.38,0.9,\"Zonal\",transform = ax.transAxes, bbox=dict(facecolor='w', alpha=0.5), fontsize=18)\n",
    "# plt.text(0.7,0.9,\"Blocking\",transform = ax.transAxes, bbox=dict(facecolor='w', alpha=0.5), fontsize=18)\n",
    "# ax.set_xticks(np.arange(0.5, 12.5))\n",
    "# ax.set_xticklabels(list_clus, rotation=\"vertical\", size='small')\n",
    "# ax.set_ylim(0, max(clim_kid_orig))\n",
    "# plt.ylabel(\"%\")\n",
    "# plt.grid()\n",
    "# plt.savefig(os.path.join(fpath,\"Kidson_types_clim_distrib_\"+season+\".png\"),dpi=300)\n",
    "# plt.close()\n",
    "\n",
    "### ==============================================================================================================\n",
    "### save the clusters \n",
    "\n",
    "### select one value per day (12 UTC)\n",
    "\n",
    "### ==============================================================================================================\n",
    "### indice for 12:00 UCT\n",
    "i12 = np.where(tclus[:,-1] == 12)[0]\n",
    "\n",
    "### select only 12 UTC, so one regime per day !\n",
    "tclus = tclus[i12,...]\n",
    "\n",
    "cluster_names_recalcd = np.array(cluster_names_recalcd)\n",
    "\n",
    "cluster_names_recalcd = cluster_names_recalcd[i12,]\n",
    "\n",
    "calendar, ifeb = remove_leap(tclus)\n",
    "\n",
    "cluster_names_recalcd = np.delete(cluster_names_recalcd, ifeb)\n",
    "\n",
    "data = zip(tclus, cluster_names_recalcd)\n",
    "\n",
    "# f = open(\"/home/nicolasf/research/NIWA/paleo/data/cluster_names_recalcd.txt\", \"w\")\n",
    "# \n",
    "# for l in data:\n",
    "#     f.write( str(l[0]).strip('[]') + \" \" + l[1]  + \"\\n\")\n",
    "# f.close()\n",
    "# \n",
    "# ess = np.loadtxt(\"/home/nicolasf/research/NIWA/paleo/data/cluster_names_recalcd.txt\", dtype={'names': ('years', 'month', 'day', 'time', 'regime'),'formats': ('i4', 'i4', 'i4', 'i4', 'S4')})\n"
   ]
  },
  {
   "cell_type": "code",
   "execution_count": null,
   "metadata": {
    "collapsed": true
   },
   "outputs": [],
   "source": []
  }
 ],
 "metadata": {
  "kernelspec": {
   "display_name": "Python 3",
   "language": "python",
   "name": "python3"
  },
  "language_info": {
   "codemirror_mode": {
    "name": "ipython",
    "version": 3
   },
   "file_extension": ".py",
   "mimetype": "text/x-python",
   "name": "python",
   "nbconvert_exporter": "python",
   "pygments_lexer": "ipython3",
   "version": "3.4.3"
  }
 },
 "nbformat": 4,
 "nbformat_minor": 0
}
