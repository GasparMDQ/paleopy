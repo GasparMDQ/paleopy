{
 "cells": [
  {
   "cell_type": "markdown",
   "metadata": {},
   "source": [
    "# defines the datasets"
   ]
  },
  {
   "cell_type": "code",
   "execution_count": 20,
   "metadata": {
    "collapsed": true
   },
   "outputs": [],
   "source": [
    "import json"
   ]
  },
  {
   "cell_type": "code",
   "execution_count": 21,
   "metadata": {
    "collapsed": false
   },
   "outputs": [
    {
     "name": "stdout",
     "output_type": "stream",
     "text": [
      "/Users/nicolasf/CODE/paleopy/notebooks/make_datasets\r\n"
     ]
    }
   ],
   "source": [
    "!pwd"
   ]
  },
  {
   "cell_type": "code",
   "execution_count": 22,
   "metadata": {
    "collapsed": true
   },
   "outputs": [],
   "source": [
    "dpath = '/Users/nicolasf/CODE/paleopy/data'"
   ]
  },
  {
   "cell_type": "code",
   "execution_count": 23,
   "metadata": {
    "collapsed": false
   },
   "outputs": [],
   "source": [
    "datasets = {}\n",
    "\n",
    "\n",
    "# vcsn: TMean and Rain\n",
    "datasets['vcsn'] = {}\n",
    "\n",
    "datasets['vcsn']['TMean'] = {}\n",
    "datasets['vcsn']['TMean']['path'] = '{}/VCSN_monthly_TMean_1972_2014_grid.nc'.format(dpath)\n",
    "datasets['vcsn']['TMean']['description'] = 'Mean temperature'\n",
    "datasets['vcsn']['TMean']['units'] = 'degrees C.'\n",
    "datasets['vcsn']['TMean']['valid_period'] = (1972, 2014)\n",
    "datasets['vcsn']['TMean']['domain'] = [166.4, 178.5, -47.4, -34.4]\n",
    "datasets['vcsn']['TMean']['plot'] = {}\n",
    "datasets['vcsn']['TMean']['plot']['cmap'] = 'palettable.colorbrewer.diverging.RdBu_11_r.mpl_colormap'\n",
    "\n",
    "\n",
    "datasets['vcsn']['Rain'] = {}\n",
    "datasets['vcsn']['Rain']['path'] = '{}/VCSN_monthly_Rain_1972_2014_grid.nc'.format(dpath)\n",
    "datasets['vcsn']['Rain']['description'] = 'cumulative seasonal precipitation'\n",
    "datasets['vcsn']['Rain']['units'] = 'mm'\n",
    "datasets['vcsn']['Rain']['valid_period'] = (1972, 2014)\n",
    "datasets['vcsn']['Rain']['domain'] = [166.4, 178.5, -47.4, -34.4]\n",
    "datasets['vcsn']['Rain']['plot'] = {}\n",
    "datasets['vcsn']['Rain']['plot']['cmap'] = 'palettable.colorbrewer.diverging.BrBG_11.mpl_colormap'\n",
    "\n",
    "# ersst: sst\n",
    "datasets['ersst'] = {}\n",
    "datasets['ersst']['sst'] = {}\n",
    "datasets['ersst']['sst']['path'] = '{}/ERSST_monthly_SST_1948_2014.nc'.format(dpath)\n",
    "datasets['ersst']['sst']['description'] = 'Sea Surface Temperature (SST)'\n",
    "datasets['ersst']['sst']['units'] = 'degrees C.'\n",
    "datasets['ersst']['sst']['valid_period'] = (1972, 2014)\n",
    "datasets['ersst']['sst']['domain'] = [0, 360, -90, 90]\n",
    "datasets['ersst']['sst']['plot'] = {}\n",
    "datasets['ersst']['sst']['plot']['cmap'] = 'palettable.colorbrewer.diverging.RdBu_11_r.mpl_colormap'\n",
    "\n",
    "# gpcp: Rain\n",
    "datasets['gpcp'] = {}\n",
    "datasets['gpcp']['Rain'] = {}\n",
    "datasets['gpcp']['Rain']['path'] = '{}/GPCP_monthly_Rain_1979_2014.nc'.format(dpath)\n",
    "datasets['gpcp']['Rain']['description'] = 'Average Monthly Rate of Precipitation'\n",
    "datasets['gpcp']['Rain']['units'] = 'mm/day'\n",
    "datasets['gpcp']['Rain']['valid_period'] = (1979, 2014)\n",
    "datasets['gpcp']['Rain']['domain'] = [0, 360, -90, 90]\n",
    "datasets['gpcp']['Rain']['plot'] = {}\n",
    "datasets['gpcp']['Rain']['plot']['cmap'] = 'palettable.colorbrewer.diverging.BrBG_11.mpl_colormap'\n",
    "\n",
    "\n",
    "# NCEP: HGT_1000\n",
    "datasets['ncep'] = {}\n",
    "datasets['ncep']['hgt_1000'] = {}\n",
    "datasets['ncep']['hgt_1000']['path'] = '{}/NCEP1_monthly_hgt_1948_2014.nc'.format(dpath)\n",
    "datasets['ncep']['hgt_1000']['description'] = 'geopotential at 1000 hPa'\n",
    "datasets['ncep']['hgt_1000']['units'] = 'meters'\n",
    "datasets['ncep']['hgt_1000']['valid_period'] = (1948, 2014)\n",
    "datasets['ncep']['hgt_1000']['domain'] = [0, 360, -90, 90]\n",
    "datasets['ncep']['hgt_1000']['plot'] = {}\n",
    "datasets['ncep']['hgt_1000']['plot']['cmap'] = 'palettable.colorbrewer.diverging.RdYlBu_11_r.mpl_colormap'\n",
    "\n",
    "\n",
    "# NCEP: HGT_850\n",
    "datasets['ncep']['hgt_850'] = {}\n",
    "datasets['ncep']['hgt_850']['path'] = '{}/NCEP1_monthly_hgt_1948_2014.nc'.format(dpath)\n",
    "datasets['ncep']['hgt_850']['description'] = 'geopotential at 800 hPa'\n",
    "datasets['ncep']['hgt_850']['units'] = 'meters'\n",
    "datasets['ncep']['hgt_850']['valid_period'] = (1948, 2014)\n",
    "datasets['ncep']['hgt_850']['domain'] = [0, 360, -90, 90]\n",
    "datasets['ncep']['hgt_850']['plot'] = {}\n",
    "datasets['ncep']['hgt_850']['plot']['cmap'] = 'palettable.colorbrewer.diverging.RdYlBu_11_r.mpl_colormap'\n",
    "\n",
    "# NCEP: HGT_850\n",
    "datasets['ncep']['hgt_200'] = {}\n",
    "datasets['ncep']['hgt_200']['path'] = '{}/NCEP1_monthly_hgt_1948_2014.nc'.format(dpath)\n",
    "datasets['ncep']['hgt_200']['description'] = 'geopotential at 200 hPa'\n",
    "datasets['ncep']['hgt_200']['units'] = 'meters'\n",
    "datasets['ncep']['hgt_200']['valid_period'] = (1948, 2014)\n",
    "datasets['ncep']['hgt_200']['domain'] = [0, 360, -90, 90]\n",
    "datasets['ncep']['hgt_200']['plot'] = {}\n",
    "datasets['ncep']['hgt_200']['plot']['cmap'] = 'palettable.colorbrewer.diverging.RdYlBu_11_r.mpl_colormap'\n",
    "\n",
    "# NCEP: Omega\n",
    "datasets['ncep']['omega_500'] = {}\n",
    "datasets['ncep']['omega_500']['path'] = '{}/NCEP1_monthly_omega_1948_2014.nc'.format(dpath)\n",
    "datasets['ncep']['omega_500']['description'] = 'Omega at 500 hPa'\n",
    "datasets['ncep']['omega_500']['units'] = 'm/s'\n",
    "datasets['ncep']['omega_500']['valid_period'] = (1948, 2014)\n",
    "datasets['ncep']['omega_500']['domain'] = [0, 360, -90, 90]\n",
    "datasets['ncep']['omega_500']['plot'] = {}\n",
    "datasets['ncep']['omega_500']['plot']['cmap'] = 'palettable.colorbrewer.diverging.PuOr_11.mpl_colormap'\n",
    "\n",
    "# NCEP: uwnd 1000\n",
    "datasets['ncep']['uwnd_1000'] = {}\n",
    "datasets['ncep']['uwnd_1000']['path'] = '{}/NCEP1_monthly_wind_1948_2014.nc'.format(dpath)\n",
    "datasets['ncep']['uwnd_1000']['description'] = 'zonal wind at 1000 hPa'\n",
    "datasets['ncep']['uwnd_1000']['units'] = 'm/s'\n",
    "datasets['ncep']['uwnd_1000']['valid_period'] = (1948, 2014)\n",
    "datasets['ncep']['uwnd_1000']['domain'] = [0, 360, -90, 90]\n",
    "datasets['ncep']['uwnd_1000']['plot'] = {}\n",
    "datasets['ncep']['uwnd_1000']['plot']['cmap'] = 'palettable.colorbrewer.diverging.PRGn_11.mpl_colormap'\n",
    "\n",
    "# NCEP: uwnd 850\n",
    "datasets['ncep']['uwnd_850'] = {}\n",
    "datasets['ncep']['uwnd_850']['path'] = '{}/NCEP1_monthly_wind_1948_2014.nc'.format(dpath)\n",
    "datasets['ncep']['uwnd_850']['description'] = 'zonal wind at 850 hPa'\n",
    "datasets['ncep']['uwnd_850']['units'] = 'm/s'\n",
    "datasets['ncep']['uwnd_850']['valid_period'] = (1948, 2014)\n",
    "datasets['ncep']['uwnd_850']['domain'] = [0, 360, -90, 90]\n",
    "datasets['ncep']['uwnd_850']['plot'] = {}\n",
    "datasets['ncep']['uwnd_850']['plot']['cmap'] = 'palettable.colorbrewer.diverging.PRGn_11.mpl_colormap'\n",
    "\n",
    "# NCEP: uwnd 200\n",
    "datasets['ncep']['uwnd_200'] = {}\n",
    "datasets['ncep']['uwnd_200']['path'] = '{}/NCEP1_monthly_wind_1948_2014.nc'.format(dpath)\n",
    "datasets['ncep']['uwnd_200']['description'] = 'zonal wind at 200 hPa'\n",
    "datasets['ncep']['uwnd_200']['units'] = 'm/s'\n",
    "datasets['ncep']['uwnd_200']['valid_period'] = (1948, 2014)\n",
    "datasets['ncep']['uwnd_200']['domain'] = [0, 360, -90, 90]\n",
    "datasets['ncep']['uwnd_200']['plot'] = {}\n",
    "datasets['ncep']['uwnd_200']['plot']['cmap'] = 'palettable.colorbrewer.diverging.PRGn_11.mpl_colormap'\n",
    "\n",
    "# NCEP: vwnd 1000\n",
    "datasets['ncep']['vwnd_1000'] = {}\n",
    "datasets['ncep']['vwnd_1000']['path'] = '{}/NCEP1_monthly_wind_1948_2014.nc'.format(dpath)\n",
    "datasets['ncep']['vwnd_1000']['description'] = 'meridional wind at 1000 hPa'\n",
    "datasets['ncep']['vwnd_1000']['units'] = 'm/s'\n",
    "datasets['ncep']['vwnd_1000']['valid_period'] = (1948, 2014)\n",
    "datasets['ncep']['vwnd_1000']['domain'] = [0, 360, -90, 90]\n",
    "datasets['ncep']['vwnd_1000']['plot'] = {}\n",
    "datasets['ncep']['vwnd_1000']['plot']['cmap'] = 'palettable.colorbrewer.diverging.PRGn_11.mpl_colormap'\n",
    "\n",
    "# NCEP: vwnd 850\n",
    "datasets['ncep']['vwnd_850'] = {}\n",
    "datasets['ncep']['vwnd_850']['path'] = '{}/NCEP1_monthly_wind_1948_2014.nc'.format(dpath)\n",
    "datasets['ncep']['vwnd_850']['description'] = 'meridional wind at 850 hPa'\n",
    "datasets['ncep']['vwnd_850']['units'] = 'm/s'\n",
    "datasets['ncep']['vwnd_850']['valid_period'] = (1948, 2014)\n",
    "datasets['ncep']['vwnd_850']['domain'] = [0, 360, -90, 90]\n",
    "datasets['ncep']['vwnd_850']['plot'] = {}\n",
    "datasets['ncep']['vwnd_850']['plot']['cmap'] = 'palettable.colorbrewer.diverging.PRGn_11.mpl_colormap'\n",
    "\n",
    "# NCEP: vwnd 200\n",
    "datasets['ncep']['vwnd_200'] = {}\n",
    "datasets['ncep']['vwnd_200']['path'] = '{}/NCEP1_monthly_wind_1948_2014.nc'.format(dpath)\n",
    "datasets['ncep']['vwnd_200']['description'] = 'meridional wind at 200 hPa'\n",
    "datasets['ncep']['vwnd_200']['units'] = 'm/s'\n",
    "datasets['ncep']['vwnd_200']['valid_period'] = (1948, 2014)\n",
    "datasets['ncep']['vwnd_200']['domain'] = [0, 360, -90, 90]\n",
    "datasets['ncep']['vwnd_200']['plot'] = {}\n",
    "datasets['ncep']['vwnd_200']['plot']['cmap'] = 'palettable.colorbrewer.diverging.PRGn_11.mpl_colormap'\n",
    "\n",
    "# NCEP: vwnd 200\n",
    "datasets['ncep']['Tmean'] = {}\n",
    "datasets['ncep']['Tmean']['path'] = '{}/NCEP1_monthly_Tmean_1948_2014.nc'.format(dpath)\n",
    "datasets['ncep']['Tmean']['description'] = 'Mean Temperature at 2m.'\n",
    "datasets['ncep']['Tmean']['units'] = 'degrees C.'\n",
    "datasets['ncep']['Tmean']['valid_period'] = (1948, 2014)\n",
    "datasets['ncep']['Tmean']['domain'] = [0, 360, -90, 90]\n",
    "datasets['ncep']['Tmean']['plot'] = {}\n",
    "datasets['ncep']['Tmean']['plot']['cmap'] = 'palettable.colorbrewer.diverging.RdBu_11_r.mpl_colormap'"
   ]
  },
  {
   "cell_type": "code",
   "execution_count": 24,
   "metadata": {
    "collapsed": false
   },
   "outputs": [],
   "source": [
    "with open('../../jsons/datasets.json', 'w') as f: \n",
    "    json.dump(datasets, f)"
   ]
  },
  {
   "cell_type": "markdown",
   "metadata": {},
   "source": [
    "### makes the JSON file for the Weather Regimes"
   ]
  },
  {
   "cell_type": "code",
   "execution_count": 27,
   "metadata": {
    "collapsed": false
   },
   "outputs": [],
   "source": [
    "d = {}\n",
    "d['Kidson Types'] = {}\n",
    "d['Kidson Types']['Markov Chains'] = '{}/simulations_Kidson_types.hdf5'.format(dpath)\n",
    "d['Kidson Types']['WR_TS'] = '{}/Kidson_Types.csv'.format(dpath)\n",
    "d['Kidson Types']['types'] = ['T', 'SW', 'TNW', 'TSW', 'H', 'HNW', 'W', 'HSE', 'HE', 'NE', 'HW', 'R']\n",
    "d['Kidson Types']['groups'] = {'Trough': ['T', 'SW', 'TNW', 'TSW'], 'Zonal': ['H', 'HNW', 'W'], 'Blocking':['HSE', 'HE', 'NE', 'HW', 'R']}\n",
    "\n",
    "d['SW Pacific Regimes'] = {}\n",
    "d['SW Pacific Regimes']['Markov Chains'] = '{}/simulations_SWPac_types.hdf5'.format(dpath)\n",
    "d['SW Pacific Regimes']['WR_TS'] = '{}/SWPac_Types.csv'.format(dpath)\n",
    "d['SW Pacific Regimes']['types'] = ['SW1', 'SW2', 'SW3', 'SW4', 'SW5', 'SW6']\n",
    "d['SW Pacific Regimes']['groups'] = None\n"
   ]
  },
  {
   "cell_type": "code",
   "execution_count": 28,
   "metadata": {
    "collapsed": true
   },
   "outputs": [],
   "source": [
    "with open('../../jsons/WRs.json', 'w') as f: \n",
    "    json.dump(d, f)"
   ]
  },
  {
   "cell_type": "markdown",
   "metadata": {},
   "source": [
    "### makes the JSON file for the climate indices"
   ]
  },
  {
   "cell_type": "code",
   "execution_count": 17,
   "metadata": {
    "collapsed": false
   },
   "outputs": [],
   "source": [
    "d = {}\n",
    "d['NINO 3.4'] = {}\n",
    "d['NINO 3.4']['path'] = '{}/NINO34_monthly_1950_2015_1981_2010_Clim.csv'.format(dpath)\n",
    "d['NINO 3.4']['units'] = 'degrees C.'\n",
    "d['NINO 3.4']['period'] = (1948, 2014)\n",
    "d['NINO 3.4']['source'] = 'ERSST NINO3.4 from the Climate Prediction Center'\n",
    "\n",
    "d['SOI'] = {}\n",
    "d['SOI']['path'] = '{}/SOI_monthly_1876_2015_1981_2010_Clim.csv'.format(dpath)\n",
    "d['SOI']['units'] = 'std.'\n",
    "d['SOI']['period'] = (1948, 2014)\n",
    "d['SOI']['source'] = 'NIWA SOI'\n",
    "\n",
    "d['IOD'] = {}\n",
    "d['IOD']['path'] = '{}/IOD_1900_2014_1981_2010_Clim.csv'.format(dpath)\n",
    "d['IOD']['units'] = 'std.'\n",
    "d['IOD']['period'] = (1948, 2014)\n",
    "d['IOD']['source'] = 'ERSST IOD (NIWA)'\n",
    "\n",
    "d['SAM'] = {}\n",
    "d['SAM']['path'] = '{}/SAM_index_1948_2014_1981_2010_Clim.csv'.format(dpath)\n",
    "d['SAM']['units'] = 'std.'\n",
    "d['SAM']['period'] = (1948, 2014)\n",
    "d['SAM']['source'] = 'HGT700 EOF (NIWA)'"
   ]
  },
  {
   "cell_type": "code",
   "execution_count": 18,
   "metadata": {
    "collapsed": false
   },
   "outputs": [],
   "source": [
    "with open('../../jsons/indices.json', 'w') as f: \n",
    "    json.dump(d, f)"
   ]
  },
  {
   "cell_type": "code",
   "execution_count": 19,
   "metadata": {
    "collapsed": false
   },
   "outputs": [
    {
     "data": {
      "text/plain": [
       "{'IOD': {'path': '/Users/nicolasf/CODE/paleopy/data/IOD_1900_2014_1981_2010_Clim.csv',\n",
       "  'period': (1948, 2014),\n",
       "  'source': 'ERSST IOD (NIWA)',\n",
       "  'units': 'std.'},\n",
       " 'NINO 3.4': {'path': '/Users/nicolasf/CODE/paleopy/data/NINO34_monthly_1950_2015_1981_2010_Clim.csv',\n",
       "  'period': (1948, 2014),\n",
       "  'source': 'ERSST NINO3.4 from the Climate Prediction Center',\n",
       "  'units': 'degrees C.'},\n",
       " 'SAM': {'path': '/Users/nicolasf/CODE/paleopy/data/SAM_index_1948_2014_1981_2010_Clim.csv',\n",
       "  'period': (1948, 2014),\n",
       "  'source': 'HGT700 EOF (NIWA)',\n",
       "  'units': 'std.'},\n",
       " 'SOI': {'path': '/Users/nicolasf/CODE/paleopy/data/SOI_monthly_1876_2015_1981_2010_Clim.csv',\n",
       "  'period': (1948, 2014),\n",
       "  'source': 'NIWA SOI',\n",
       "  'units': 'std.'}}"
      ]
     },
     "execution_count": 19,
     "metadata": {},
     "output_type": "execute_result"
    }
   ],
   "source": [
    "d"
   ]
  },
  {
   "cell_type": "code",
   "execution_count": null,
   "metadata": {
    "collapsed": true
   },
   "outputs": [],
   "source": []
  },
  {
   "cell_type": "code",
   "execution_count": null,
   "metadata": {
    "collapsed": true
   },
   "outputs": [],
   "source": []
  }
 ],
 "metadata": {
  "kernelspec": {
   "display_name": "Python 3",
   "language": "python",
   "name": "python3"
  },
  "language_info": {
   "codemirror_mode": {
    "name": "ipython",
    "version": 3
   },
   "file_extension": ".py",
   "mimetype": "text/x-python",
   "name": "python",
   "nbconvert_exporter": "python",
   "pygments_lexer": "ipython3",
   "version": "3.4.3"
  }
 },
 "nbformat": 4,
 "nbformat_minor": 0
}
