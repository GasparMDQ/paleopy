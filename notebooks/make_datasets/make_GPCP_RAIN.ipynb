{
 "cells": [
  {
   "cell_type": "code",
   "execution_count": 1,
   "metadata": {
    "collapsed": true
   },
   "outputs": [],
   "source": [
    "%matplotlib inline\n",
    "from matplotlib import pyplot as plt"
   ]
  },
  {
   "cell_type": "code",
   "execution_count": 2,
   "metadata": {
    "collapsed": true
   },
   "outputs": [],
   "source": [
    "import os, sys\n",
    "import numpy as np\n",
    "from numpy import ma\n",
    "import pandas as pd\n",
    "import xray\n",
    "from scipy.signal import detrend"
   ]
  },
  {
   "cell_type": "code",
   "execution_count": 3,
   "metadata": {
    "collapsed": true
   },
   "outputs": [],
   "source": [
    "dset = xray.open_dataset('/Users/nicolasf/data/GPCP/precip.mon.mean.nc')"
   ]
  },
  {
   "cell_type": "code",
   "execution_count": 4,
   "metadata": {
    "collapsed": false
   },
   "outputs": [
    {
     "data": {
      "text/plain": [
       "<xray.Dataset>\n",
       "Dimensions:  (lat: 72, lon: 144, time: 437)\n",
       "Coordinates:\n",
       "  * lat      (lat) float32 88.75 86.25 83.75 81.25 78.75 76.25 73.75 71.25 ...\n",
       "  * lon      (lon) float32 1.25 3.75 6.25 8.75 11.25 13.75 16.25 18.75 21.25 ...\n",
       "  * time     (time) datetime64[ns] 1979-01-01 1979-02-01 1979-03-01 ...\n",
       "Data variables:\n",
       "    precip   (time, lat, lon) float64 0.6615 0.5773 0.6175 0.6579 0.5897 ...\n",
       "Attributes:\n",
       "    Conventions: COARDS\n",
       "    title: GPCP Version 2.2 Combined Precipitation Dataset (Final)\n",
       "    platform: Observation\n",
       "    source: GPCP Polar Satellite Precipitation Data Centre - Emission (SSM/I emission estimates).\n",
       " GPCP Polar Satellite Precipitation Data Centre - Scattering (SSM/I scattering estimates).\n",
       "GPCP Geostationary Satellite Precipitation Data Centre (GPI and OPI estimates and rain gauge analyses).\n",
       "NASA/GSFC Satellite Applications Office (TOVS estimates\n",
       "GPCP Global Precipitation Climatology Centre (rain gauge analyses)\n",
       "NASA ftp://precip.gsfc.nasa.gov/pub/gpcp-v2.2/\n",
       "    documentation: http://www.esrl.noaa.gov/psd/data/gridded/data.gpcp.html\n",
       "    version: V2.2\n",
       "    references: http://www.esrl.noaa.gov/psd/data/gridded/data.gpcp.html\n",
       "    comments: Please redownload if you obtained this file before Aug 1 2012\n",
       "    Acknowledgement: \n",
       ",Please cite the original source of the data.\n",
       "Please email the citation to george.j.huffman@nasa.gov or david.t.bolvin@nasa.gov\n",
       "\n",
       "    history: Converted from netCDF3 to chunked, deflated NetCDF4 Aug 2014"
      ]
     },
     "execution_count": 4,
     "metadata": {},
     "output_type": "execute_result"
    }
   ],
   "source": [
    "dset"
   ]
  },
  {
   "cell_type": "code",
   "execution_count": 4,
   "metadata": {
    "collapsed": false
   },
   "outputs": [
    {
     "data": {
      "text/plain": [
       "<xray.DataArray 'lon' (lon: 144)>\n",
       "array([   1.25,    3.75,    6.25,    8.75,   11.25,   13.75,   16.25,\n",
       "         18.75,   21.25,   23.75,   26.25,   28.75,   31.25,   33.75,\n",
       "         36.25,   38.75,   41.25,   43.75,   46.25,   48.75,   51.25,\n",
       "         53.75,   56.25,   58.75,   61.25,   63.75,   66.25,   68.75,\n",
       "         71.25,   73.75,   76.25,   78.75,   81.25,   83.75,   86.25,\n",
       "         88.75,   91.25,   93.75,   96.25,   98.75,  101.25,  103.75,\n",
       "        106.25,  108.75,  111.25,  113.75,  116.25,  118.75,  121.25,\n",
       "        123.75,  126.25,  128.75,  131.25,  133.75,  136.25,  138.75,\n",
       "        141.25,  143.75,  146.25,  148.75,  151.25,  153.75,  156.25,\n",
       "        158.75,  161.25,  163.75,  166.25,  168.75,  171.25,  173.75,\n",
       "        176.25,  178.75,  181.25,  183.75,  186.25,  188.75,  191.25,\n",
       "        193.75,  196.25,  198.75,  201.25,  203.75,  206.25,  208.75,\n",
       "        211.25,  213.75,  216.25,  218.75,  221.25,  223.75,  226.25,\n",
       "        228.75,  231.25,  233.75,  236.25,  238.75,  241.25,  243.75,\n",
       "        246.25,  248.75,  251.25,  253.75,  256.25,  258.75,  261.25,\n",
       "        263.75,  266.25,  268.75,  271.25,  273.75,  276.25,  278.75,\n",
       "        281.25,  283.75,  286.25,  288.75,  291.25,  293.75,  296.25,\n",
       "        298.75,  301.25,  303.75,  306.25,  308.75,  311.25,  313.75,\n",
       "        316.25,  318.75,  321.25,  323.75,  326.25,  328.75,  331.25,\n",
       "        333.75,  336.25,  338.75,  341.25,  343.75,  346.25,  348.75,\n",
       "        351.25,  353.75,  356.25,  358.75], dtype=float32)\n",
       "Coordinates:\n",
       "  * lon      (lon) float32 1.25 3.75 6.25 8.75 11.25 13.75 16.25 18.75 21.25 ...\n",
       "Attributes:\n",
       "    units: degrees_east\n",
       "    long_name: Longitude\n",
       "    actual_range: [   1.25  358.75]\n",
       "    standard_name: longitude\n",
       "    axis: X"
      ]
     },
     "execution_count": 4,
     "metadata": {},
     "output_type": "execute_result"
    }
   ],
   "source": [
    "dset['lon']"
   ]
  },
  {
   "cell_type": "code",
   "execution_count": 6,
   "metadata": {
    "collapsed": false
   },
   "outputs": [
    {
     "data": {
      "text/plain": [
       "<xray.DataArray 'lat' (lat: 72)>\n",
       "array([ 88.75,  86.25,  83.75,  81.25,  78.75,  76.25,  73.75,  71.25,\n",
       "        68.75,  66.25,  63.75,  61.25,  58.75,  56.25,  53.75,  51.25,\n",
       "        48.75,  46.25,  43.75,  41.25,  38.75,  36.25,  33.75,  31.25,\n",
       "        28.75,  26.25,  23.75,  21.25,  18.75,  16.25,  13.75,  11.25,\n",
       "         8.75,   6.25,   3.75,   1.25,  -1.25,  -3.75,  -6.25,  -8.75,\n",
       "       -11.25, -13.75, -16.25, -18.75, -21.25, -23.75, -26.25, -28.75,\n",
       "       -31.25, -33.75, -36.25, -38.75, -41.25, -43.75, -46.25, -48.75,\n",
       "       -51.25, -53.75, -56.25, -58.75, -61.25, -63.75, -66.25, -68.75,\n",
       "       -71.25, -73.75, -76.25, -78.75, -81.25, -83.75, -86.25, -88.75], dtype=float32)\n",
       "Coordinates:\n",
       "  * lat      (lat) float32 88.75 86.25 83.75 81.25 78.75 76.25 73.75 71.25 ...\n",
       "Attributes:\n",
       "    units: degrees_north\n",
       "    actual_range: [ 88.75 -88.75]\n",
       "    long_name: Latitude\n",
       "    standard_name: latitude\n",
       "    axis: Y"
      ]
     },
     "execution_count": 6,
     "metadata": {},
     "output_type": "execute_result"
    }
   ],
   "source": [
    "dset['lat']"
   ]
  },
  {
   "cell_type": "code",
   "execution_count": 7,
   "metadata": {
    "collapsed": true
   },
   "outputs": [],
   "source": [
    "lat = dset['lat'].data\n",
    "lon = dset['lon'].data"
   ]
  },
  {
   "cell_type": "code",
   "execution_count": 12,
   "metadata": {
    "collapsed": true
   },
   "outputs": [],
   "source": [
    "d = {}\n",
    "d['time'] = ('time',dset['time'])\n",
    "d['latitudes'] = ('latitudes',lat)\n",
    "d['longitudes'] = ('longitudes', lon)\n",
    "d['Rain'] = (['time','latitudes','longitudes'], dset['precip'].data)"
   ]
  },
  {
   "cell_type": "code",
   "execution_count": 13,
   "metadata": {
    "collapsed": false
   },
   "outputs": [],
   "source": [
    "dset_out = xray.Dataset(d)"
   ]
  },
  {
   "cell_type": "code",
   "execution_count": 14,
   "metadata": {
    "collapsed": false
   },
   "outputs": [
    {
     "data": {
      "text/plain": [
       "<xray.Dataset>\n",
       "Dimensions:     (latitudes: 72, longitudes: 144, time: 437)\n",
       "Coordinates:\n",
       "  * longitudes  (longitudes) float32 1.25 3.75 6.25 8.75 11.25 13.75 16.25 ...\n",
       "  * time        (time) datetime64[ns] 1979-01-01 1979-02-01 1979-03-01 ...\n",
       "  * latitudes   (latitudes) float32 88.75 86.25 83.75 81.25 78.75 76.25 ...\n",
       "Data variables:\n",
       "    Rain        (time, latitudes, longitudes) float64 0.6615 0.5773 0.6175 ..."
      ]
     },
     "execution_count": 14,
     "metadata": {},
     "output_type": "execute_result"
    }
   ],
   "source": [
    "dset_out"
   ]
  },
  {
   "cell_type": "code",
   "execution_count": 122,
   "metadata": {
    "collapsed": true
   },
   "outputs": [],
   "source": [
    "!rm /Users/nicolasf/research/NIWA/paleo/pict/data/ERSST_1972_2014.nc"
   ]
  },
  {
   "cell_type": "code",
   "execution_count": 15,
   "metadata": {
    "collapsed": false
   },
   "outputs": [],
   "source": [
    "dset_out.to_netcdf('../data/GPCP_monthly_Rain_1979_2014.nc')"
   ]
  },
  {
   "cell_type": "code",
   "execution_count": null,
   "metadata": {
    "collapsed": true
   },
   "outputs": [],
   "source": []
  }
 ],
 "metadata": {
  "kernelspec": {
   "display_name": "Python 3",
   "language": "python",
   "name": "python3"
  },
  "language_info": {
   "codemirror_mode": {
    "name": "ipython",
    "version": 3
   },
   "file_extension": ".py",
   "mimetype": "text/x-python",
   "name": "python",
   "nbconvert_exporter": "python",
   "pygments_lexer": "ipython3",
   "version": "3.4.3"
  }
 },
 "nbformat": 4,
 "nbformat_minor": 0
}
