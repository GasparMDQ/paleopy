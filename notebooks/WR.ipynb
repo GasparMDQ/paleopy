{
 "cells": [
  {
   "cell_type": "markdown",
   "metadata": {},
   "source": [
    "# Illustrates the use of the WR (Weather Regime) class"
   ]
  },
  {
   "cell_type": "code",
   "execution_count": 1,
   "metadata": {
    "collapsed": true
   },
   "outputs": [],
   "source": [
    "%matplotlib inline\n",
    "from matplotlib import pyplot as plt\n",
    "import pandas as pd"
   ]
  },
  {
   "cell_type": "markdown",
   "metadata": {},
   "source": [
    "### import the development version of paleopy"
   ]
  },
  {
   "cell_type": "code",
   "execution_count": 2,
   "metadata": {
    "collapsed": true
   },
   "outputs": [],
   "source": [
    "import sys\n",
    "sys.path.insert(0, '../')"
   ]
  },
  {
   "cell_type": "code",
   "execution_count": 3,
   "metadata": {
    "collapsed": false
   },
   "outputs": [],
   "source": [
    "from paleopy import proxy\n",
    "from paleopy import analogs\n",
    "from paleopy import ensemble"
   ]
  },
  {
   "cell_type": "code",
   "execution_count": 4,
   "metadata": {
    "collapsed": true
   },
   "outputs": [],
   "source": [
    "djsons = '../jsons/'\n",
    "pjsons = '../jsons/proxies'"
   ]
  },
  {
   "cell_type": "markdown",
   "metadata": {},
   "source": [
    "### instantiates a proxy with the required parameters"
   ]
  },
  {
   "cell_type": "code",
   "execution_count": 5,
   "metadata": {
    "collapsed": false
   },
   "outputs": [],
   "source": [
    "p = proxy(sitename='Rarotonga', \\\n",
    "          lon = -159.82, \\\n",
    "          lat = -21.23, \\\n",
    "          djsons = djsons, \\\n",
    "          pjsons = pjsons, \\\n",
    "          pfname = 'Rarotonga.json', \\\n",
    "          dataset = 'ersst', \\\n",
    "          variable ='sst', \\\n",
    "          measurement ='delta O18', \\\n",
    "          dating_convention = 'absolute', \\\n",
    "          calendar = 'gregorian',\\\n",
    "          chronology = 'historic', \\\n",
    "          season = 'DJF', \\\n",
    "          value = 0.6, \\\n",
    "          calc_anoms = True, \\\n",
    "          detrend = True)"
   ]
  },
  {
   "cell_type": "markdown",
   "metadata": {},
   "source": [
    "### find the analogs"
   ]
  },
  {
   "cell_type": "code",
   "execution_count": 6,
   "metadata": {
    "collapsed": false
   },
   "outputs": [],
   "source": [
    "p.find_analogs()"
   ]
  },
  {
   "cell_type": "markdown",
   "metadata": {},
   "source": [
    "### print the updated proxy features"
   ]
  },
  {
   "cell_type": "code",
   "execution_count": 7,
   "metadata": {
    "collapsed": false
   },
   "outputs": [
    {
     "name": "stdout",
     "output_type": "stream",
     "text": [
      "{\n",
      "sitename:Rarotonga\n",
      "proxy_type:None\n",
      "measurement:delta O18\n",
      "dating_convention:absolute\n",
      "calendar:gregorian\n",
      "chronology:historic\n",
      "coords:(200.18, -21.23)\n",
      "aspect:None\n",
      "elevation:None\n",
      "season:DJF\n",
      "dataset:ersst\n",
      "variable:sst\n",
      "calc_anoms:True\n",
      "detrend:True\n",
      "value:0.6\n",
      "climatology:(1981, 2010)\n",
      "period:(1979, 2014)\n",
      "extracted_coords:[200.0, -22.0]\n",
      "distance_point:87.56368858840081\n",
      "trend_params:{'intercept': -60.965016377755163, 'slope': 0.030535947029886677}\n",
      "category:WA\n",
      "analog_years:[1982, 1997, 1999, 2000, 2001, 2006, 2009]\n",
      "weights:[0.15645480307020584, 0.12800536294956205, 0.13090508326029401, 0.16334634614636281, 0.15762466128135916, 0.1220029495538857, 0.1416607937383304]\n",
      "}\n"
     ]
    }
   ],
   "source": [
    "p.proxy_repr(pprint=True)"
   ]
  },
  {
   "cell_type": "markdown",
   "metadata": {},
   "source": [
    "### Now instantiates a `WR` class, passing the proxy object"
   ]
  },
  {
   "cell_type": "code",
   "execution_count": 8,
   "metadata": {
    "collapsed": false
   },
   "outputs": [],
   "source": [
    "from paleopy import WR"
   ]
  },
  {
   "cell_type": "markdown",
   "metadata": {},
   "source": [
    "#### WR frequency changes associated with the analog years for Kidson types: classifation = `New Zealand`"
   ]
  },
  {
   "cell_type": "code",
   "execution_count": 9,
   "metadata": {
    "collapsed": false
   },
   "outputs": [],
   "source": [
    "w = WR(p, classification='New Zealand')"
   ]
  },
  {
   "cell_type": "markdown",
   "metadata": {},
   "source": [
    "#### plots the bar plot, significance level = 99%"
   ]
  },
  {
   "cell_type": "code",
   "execution_count": 10,
   "metadata": {
    "collapsed": false
   },
   "outputs": [
    {
     "data": {
      "image/png": "[encoded data removed]",
      "text/plain": [
       "<matplotlib.figure.Figure at 0x11a6b5f98>"
      ]
     },
     "metadata": {},
     "output_type": "display_data"
    }
   ],
   "source": [
    "f = w.plot_bar(sig=1)"
   ]
  },
  {
   "cell_type": "code",
   "execution_count": 11,
   "metadata": {
    "collapsed": true
   },
   "outputs": [],
   "source": [
    "f.savefig('/Users/nicolasf/Desktop/proxy.png')"
   ]
  },
  {
   "cell_type": "markdown",
   "metadata": {},
   "source": [
    "#### WR frequency changes associated with the analog years for the SW Pacific regimes  = `SW Pacific`"
   ]
  },
  {
   "cell_type": "code",
   "execution_count": 12,
   "metadata": {
    "collapsed": true
   },
   "outputs": [],
   "source": [
    "w = WR(p, classification='SW Pacific')"
   ]
  },
  {
   "cell_type": "markdown",
   "metadata": {},
   "source": [
    "#### plots the bar plot, significance level = 99%"
   ]
  },
  {
   "cell_type": "code",
   "execution_count": 13,
   "metadata": {
    "collapsed": false
   },
   "outputs": [
    {
     "data": {
      "image/png": "[encoded data removed]",
      "text/plain": [
       "<matplotlib.figure.Figure at 0x11d573a20>"
      ]
     },
     "metadata": {},
     "output_type": "display_data"
    }
   ],
   "source": [
    "f = w.plot_bar(sig=1)"
   ]
  },
  {
   "cell_type": "markdown",
   "metadata": {},
   "source": [
    "this is consistent with the known relationships between the SW Pacific regimes and the large-scale SST anomalies: \n",
    "i.e. the SW#4 is strongly positively correlated to a `La Niña` pattern in the ERSST / SST (see e.g. the `proxy.ipynb` notebook), and here we show that warm anomalies in Rarotonga are related to increased probability of the SW Pacific regime #4. On the other hand, SW#1 and SW#3 see their probability reduced, consistent with their positive correlation with `El Niño` patterns."
   ]
  },
  {
   "cell_type": "code",
   "execution_count": 14,
   "metadata": {
    "collapsed": false
   },
   "outputs": [
    {
     "data": {
      "text/html": [
       "<div>\n",
       "<table border=\"1\" class=\"dataframe\">\n",
       "  <thead>\n",
       "    <tr style=\"text-align: right;\">\n",
       "      <th></th>\n",
       "      <th>Rarotonga</th>\n",
       "      <th>10</th>\n",
       "      <th>90</th>\n",
       "      <th>5</th>\n",
       "      <th>95</th>\n",
       "      <th>1</th>\n",
       "      <th>99</th>\n",
       "    </tr>\n",
       "  </thead>\n",
       "  <tbody>\n",
       "    <tr>\n",
       "      <th>SW1</th>\n",
       "      <td>0.166403</td>\n",
       "      <td>0.184562</td>\n",
       "      <td>0.225067</td>\n",
       "      <td>0.180722</td>\n",
       "      <td>0.231181</td>\n",
       "      <td>0.170038</td>\n",
       "      <td>0.241502</td>\n",
       "    </tr>\n",
       "    <tr>\n",
       "      <th>SW2</th>\n",
       "      <td>0.120444</td>\n",
       "      <td>0.105846</td>\n",
       "      <td>0.136034</td>\n",
       "      <td>0.101643</td>\n",
       "      <td>0.140619</td>\n",
       "      <td>0.095147</td>\n",
       "      <td>0.146737</td>\n",
       "    </tr>\n",
       "    <tr>\n",
       "      <th>SW3</th>\n",
       "      <td>0.109350</td>\n",
       "      <td>0.142147</td>\n",
       "      <td>0.181888</td>\n",
       "      <td>0.136779</td>\n",
       "      <td>0.188766</td>\n",
       "      <td>0.127998</td>\n",
       "      <td>0.198323</td>\n",
       "    </tr>\n",
       "    <tr>\n",
       "      <th>SW4</th>\n",
       "      <td>0.218700</td>\n",
       "      <td>0.136798</td>\n",
       "      <td>0.171227</td>\n",
       "      <td>0.132958</td>\n",
       "      <td>0.176920</td>\n",
       "      <td>0.123802</td>\n",
       "      <td>0.187245</td>\n",
       "    </tr>\n",
       "    <tr>\n",
       "      <th>SW5</th>\n",
       "      <td>0.120444</td>\n",
       "      <td>0.108903</td>\n",
       "      <td>0.139855</td>\n",
       "      <td>0.105063</td>\n",
       "      <td>0.144058</td>\n",
       "      <td>0.098582</td>\n",
       "      <td>0.153611</td>\n",
       "    </tr>\n",
       "    <tr>\n",
       "      <th>SW6</th>\n",
       "      <td>0.264659</td>\n",
       "      <td>0.210929</td>\n",
       "      <td>0.257547</td>\n",
       "      <td>0.205560</td>\n",
       "      <td>0.262916</td>\n",
       "      <td>0.196385</td>\n",
       "      <td>0.278563</td>\n",
       "    </tr>\n",
       "  </tbody>\n",
       "</table>\n",
       "</div>"
      ],
      "text/plain": [
       "     Rarotonga        10        90         5        95         1        99\n",
       "SW1   0.166403  0.184562  0.225067  0.180722  0.231181  0.170038  0.241502\n",
       "SW2   0.120444  0.105846  0.136034  0.101643  0.140619  0.095147  0.146737\n",
       "SW3   0.109350  0.142147  0.181888  0.136779  0.188766  0.127998  0.198323\n",
       "SW4   0.218700  0.136798  0.171227  0.132958  0.176920  0.123802  0.187245\n",
       "SW5   0.120444  0.108903  0.139855  0.105063  0.144058  0.098582  0.153611\n",
       "SW6   0.264659  0.210929  0.257547  0.205560  0.262916  0.196385  0.278563"
      ]
     },
     "execution_count": 14,
     "metadata": {},
     "output_type": "execute_result"
    }
   ],
   "source": [
    "w.df_probs"
   ]
  },
  {
   "cell_type": "markdown",
   "metadata": {
    "collapsed": true
   },
   "source": [
    "### now passing an `ensemble` object "
   ]
  },
  {
   "cell_type": "code",
   "execution_count": 15,
   "metadata": {
    "collapsed": false
   },
   "outputs": [],
   "source": [
    "ens = ensemble(djsons=djsons, pjsons=pjsons, season='DJF')"
   ]
  },
  {
   "cell_type": "code",
   "execution_count": 16,
   "metadata": {
    "collapsed": true
   },
   "outputs": [],
   "source": [
    "classification = 'SW Pacific'"
   ]
  },
  {
   "cell_type": "code",
   "execution_count": 17,
   "metadata": {
    "collapsed": false
   },
   "outputs": [],
   "source": [
    "w = WR(ens, classification=classification)"
   ]
  },
  {
   "cell_type": "code",
   "execution_count": 18,
   "metadata": {
    "collapsed": false
   },
   "outputs": [
    {
     "data": {
      "text/plain": [
       "'ensemble'"
      ]
     },
     "execution_count": 18,
     "metadata": {},
     "output_type": "execute_result"
    }
   ],
   "source": [
    "w.parent.description"
   ]
  },
  {
   "cell_type": "code",
   "execution_count": 19,
   "metadata": {
    "collapsed": false
   },
   "outputs": [
    {
     "data": {
      "text/plain": [
       "[1981, 2010]"
      ]
     },
     "execution_count": 19,
     "metadata": {},
     "output_type": "execute_result"
    }
   ],
   "source": [
    "w.climatology"
   ]
  },
  {
   "cell_type": "code",
   "execution_count": 20,
   "metadata": {
    "collapsed": false
   },
   "outputs": [],
   "source": [
    "w.probs_anomalies(kind='many')"
   ]
  },
  {
   "cell_type": "code",
   "execution_count": 21,
   "metadata": {
    "collapsed": false
   },
   "outputs": [
    {
     "data": {
      "text/html": [
       "<div>\n",
       "<table border=\"1\" class=\"dataframe\">\n",
       "  <thead>\n",
       "    <tr style=\"text-align: right;\">\n",
       "      <th></th>\n",
       "      <th>Amedee</th>\n",
       "      <th>Avoca</th>\n",
       "      <th>Boundary Stream Tarn</th>\n",
       "      <th>Browning Creek</th>\n",
       "      <th>Cameron</th>\n",
       "      <th>Caples</th>\n",
       "      <th>Cass</th>\n",
       "      <th>Clarke</th>\n",
       "      <th>Crow</th>\n",
       "      <th>Crow Glacier</th>\n",
       "      <th>...</th>\n",
       "      <th>Hunter</th>\n",
       "      <th>Jollie</th>\n",
       "      <th>Mistake</th>\n",
       "      <th>Oroko</th>\n",
       "      <th>Pear Drop</th>\n",
       "      <th>Pyke</th>\n",
       "      <th>Rarotonga</th>\n",
       "      <th>Taramakau</th>\n",
       "      <th>Temple</th>\n",
       "      <th>Turnbull</th>\n",
       "    </tr>\n",
       "  </thead>\n",
       "  <tbody>\n",
       "    <tr>\n",
       "      <th>SW1</th>\n",
       "      <td>0.012353</td>\n",
       "      <td>-0.007863</td>\n",
       "      <td>0.044253</td>\n",
       "      <td>-0.032725</td>\n",
       "      <td>-0.025819</td>\n",
       "      <td>0.034544</td>\n",
       "      <td>0.053610</td>\n",
       "      <td>0.042866</td>\n",
       "      <td>-0.020294</td>\n",
       "      <td>0.032375</td>\n",
       "      <td>...</td>\n",
       "      <td>-0.032262</td>\n",
       "      <td>-0.011747</td>\n",
       "      <td>-0.014513</td>\n",
       "      <td>-0.002065</td>\n",
       "      <td>-0.032725</td>\n",
       "      <td>0.032835</td>\n",
       "      <td>-0.033450</td>\n",
       "      <td>-0.025819</td>\n",
       "      <td>-0.003448</td>\n",
       "      <td>-0.024438</td>\n",
       "    </tr>\n",
       "    <tr>\n",
       "      <th>SW2</th>\n",
       "      <td>-0.009283</td>\n",
       "      <td>-0.008374</td>\n",
       "      <td>0.039260</td>\n",
       "      <td>-0.029092</td>\n",
       "      <td>-0.020804</td>\n",
       "      <td>-0.002349</td>\n",
       "      <td>-0.006671</td>\n",
       "      <td>-0.013444</td>\n",
       "      <td>-0.012517</td>\n",
       "      <td>-0.014010</td>\n",
       "      <td>...</td>\n",
       "      <td>-0.010826</td>\n",
       "      <td>-0.027579</td>\n",
       "      <td>-0.023429</td>\n",
       "      <td>-0.002682</td>\n",
       "      <td>-0.029092</td>\n",
       "      <td>0.001639</td>\n",
       "      <td>-0.002571</td>\n",
       "      <td>-0.020804</td>\n",
       "      <td>-0.030345</td>\n",
       "      <td>-0.022186</td>\n",
       "    </tr>\n",
       "    <tr>\n",
       "      <th>SW3</th>\n",
       "      <td>0.001120</td>\n",
       "      <td>-0.032707</td>\n",
       "      <td>-0.022458</td>\n",
       "      <td>-0.000939</td>\n",
       "      <td>-0.007845</td>\n",
       "      <td>-0.019684</td>\n",
       "      <td>-0.058663</td>\n",
       "      <td>-0.026619</td>\n",
       "      <td>-0.011989</td>\n",
       "      <td>-0.053537</td>\n",
       "      <td>...</td>\n",
       "      <td>-0.014342</td>\n",
       "      <td>0.022797</td>\n",
       "      <td>0.003434</td>\n",
       "      <td>-0.051891</td>\n",
       "      <td>-0.000939</td>\n",
       "      <td>-0.037888</td>\n",
       "      <td>-0.053191</td>\n",
       "      <td>-0.007845</td>\n",
       "      <td>0.014499</td>\n",
       "      <td>-0.006464</td>\n",
       "    </tr>\n",
       "    <tr>\n",
       "      <th>SW4</th>\n",
       "      <td>0.021360</td>\n",
       "      <td>-0.016662</td>\n",
       "      <td>0.019973</td>\n",
       "      <td>-0.024950</td>\n",
       "      <td>-0.016662</td>\n",
       "      <td>0.000556</td>\n",
       "      <td>0.003111</td>\n",
       "      <td>0.000556</td>\n",
       "      <td>-0.015281</td>\n",
       "      <td>0.033210</td>\n",
       "      <td>...</td>\n",
       "      <td>0.007266</td>\n",
       "      <td>-0.060731</td>\n",
       "      <td>-0.042751</td>\n",
       "      <td>0.009808</td>\n",
       "      <td>-0.024950</td>\n",
       "      <td>0.026657</td>\n",
       "      <td>0.063917</td>\n",
       "      <td>-0.016662</td>\n",
       "      <td>-0.051049</td>\n",
       "      <td>-0.033237</td>\n",
       "    </tr>\n",
       "    <tr>\n",
       "      <th>SW5</th>\n",
       "      <td>-0.001889</td>\n",
       "      <td>0.039054</td>\n",
       "      <td>-0.042110</td>\n",
       "      <td>0.059772</td>\n",
       "      <td>0.054247</td>\n",
       "      <td>0.011981</td>\n",
       "      <td>-0.017289</td>\n",
       "      <td>-0.018532</td>\n",
       "      <td>0.059772</td>\n",
       "      <td>0.041550</td>\n",
       "      <td>...</td>\n",
       "      <td>0.011797</td>\n",
       "      <td>0.050340</td>\n",
       "      <td>0.040658</td>\n",
       "      <td>0.028210</td>\n",
       "      <td>0.059772</td>\n",
       "      <td>-0.010364</td>\n",
       "      <td>-0.000724</td>\n",
       "      <td>0.054247</td>\n",
       "      <td>0.050340</td>\n",
       "      <td>0.050103</td>\n",
       "    </tr>\n",
       "    <tr>\n",
       "      <th>SW6</th>\n",
       "      <td>-0.023661</td>\n",
       "      <td>0.026553</td>\n",
       "      <td>-0.038918</td>\n",
       "      <td>0.027934</td>\n",
       "      <td>0.016884</td>\n",
       "      <td>-0.025048</td>\n",
       "      <td>0.025902</td>\n",
       "      <td>0.015174</td>\n",
       "      <td>0.000310</td>\n",
       "      <td>-0.039588</td>\n",
       "      <td>...</td>\n",
       "      <td>0.038368</td>\n",
       "      <td>0.026920</td>\n",
       "      <td>0.036601</td>\n",
       "      <td>0.018621</td>\n",
       "      <td>0.027934</td>\n",
       "      <td>-0.012879</td>\n",
       "      <td>0.026019</td>\n",
       "      <td>0.016884</td>\n",
       "      <td>0.020004</td>\n",
       "      <td>0.036221</td>\n",
       "    </tr>\n",
       "  </tbody>\n",
       "</table>\n",
       "<p>6 rows × 26 columns</p>\n",
       "</div>"
      ],
      "text/plain": [
       "       Amedee     Avoca  Boundary Stream Tarn  Browning Creek   Cameron  \\\n",
       "SW1  0.012353 -0.007863              0.044253       -0.032725 -0.025819   \n",
       "SW2 -0.009283 -0.008374              0.039260       -0.029092 -0.020804   \n",
       "SW3  0.001120 -0.032707             -0.022458       -0.000939 -0.007845   \n",
       "SW4  0.021360 -0.016662              0.019973       -0.024950 -0.016662   \n",
       "SW5 -0.001889  0.039054             -0.042110        0.059772  0.054247   \n",
       "SW6 -0.023661  0.026553             -0.038918        0.027934  0.016884   \n",
       "\n",
       "       Caples      Cass    Clarke      Crow  Crow Glacier    ...       Hunter  \\\n",
       "SW1  0.034544  0.053610  0.042866 -0.020294      0.032375    ...    -0.032262   \n",
       "SW2 -0.002349 -0.006671 -0.013444 -0.012517     -0.014010    ...    -0.010826   \n",
       "SW3 -0.019684 -0.058663 -0.026619 -0.011989     -0.053537    ...    -0.014342   \n",
       "SW4  0.000556  0.003111  0.000556 -0.015281      0.033210    ...     0.007266   \n",
       "SW5  0.011981 -0.017289 -0.018532  0.059772      0.041550    ...     0.011797   \n",
       "SW6 -0.025048  0.025902  0.015174  0.000310     -0.039588    ...     0.038368   \n",
       "\n",
       "       Jollie   Mistake     Oroko  Pear Drop      Pyke  Rarotonga  Taramakau  \\\n",
       "SW1 -0.011747 -0.014513 -0.002065  -0.032725  0.032835  -0.033450  -0.025819   \n",
       "SW2 -0.027579 -0.023429 -0.002682  -0.029092  0.001639  -0.002571  -0.020804   \n",
       "SW3  0.022797  0.003434 -0.051891  -0.000939 -0.037888  -0.053191  -0.007845   \n",
       "SW4 -0.060731 -0.042751  0.009808  -0.024950  0.026657   0.063917  -0.016662   \n",
       "SW5  0.050340  0.040658  0.028210   0.059772 -0.010364  -0.000724   0.054247   \n",
       "SW6  0.026920  0.036601  0.018621   0.027934 -0.012879   0.026019   0.016884   \n",
       "\n",
       "       Temple  Turnbull  \n",
       "SW1 -0.003448 -0.024438  \n",
       "SW2 -0.030345 -0.022186  \n",
       "SW3  0.014499 -0.006464  \n",
       "SW4 -0.051049 -0.033237  \n",
       "SW5  0.050340  0.050103  \n",
       "SW6  0.020004  0.036221  \n",
       "\n",
       "[6 rows x 26 columns]"
      ]
     },
     "execution_count": 21,
     "metadata": {},
     "output_type": "execute_result"
    }
   ],
   "source": [
    "w.df_anoms"
   ]
  },
  {
   "cell_type": "code",
   "execution_count": 22,
   "metadata": {
    "collapsed": false
   },
   "outputs": [
    {
     "data": {
      "image/png": "[encoded data removed]",
      "text/plain": [
       "<matplotlib.figure.Figure at 0x11d881fd0>"
      ]
     },
     "metadata": {},
     "output_type": "display_data"
    }
   ],
   "source": [
    "f = w.plot_heatmap()"
   ]
  },
  {
   "cell_type": "code",
   "execution_count": 23,
   "metadata": {
    "collapsed": false
   },
   "outputs": [
    {
     "data": {
      "image/png": "[encoded data removed]",
      "text/plain": [
       "<matplotlib.figure.Figure at 0x11e709eb8>"
      ]
     },
     "metadata": {},
     "output_type": "display_data"
    }
   ],
   "source": [
    "f = w.plot_bar()"
   ]
  },
  {
   "cell_type": "code",
   "execution_count": 24,
   "metadata": {
    "collapsed": false
   },
   "outputs": [],
   "source": [
    "w.df_anoms.to_csv('/Users/nicolasf/Desktop/table.csv')"
   ]
  },
  {
   "cell_type": "code",
   "execution_count": 25,
   "metadata": {
    "collapsed": false
   },
   "outputs": [
    {
     "data": {
      "text/html": [
       "<div>\n",
       "<table border=\"1\" class=\"dataframe\">\n",
       "  <thead>\n",
       "    <tr style=\"text-align: right;\">\n",
       "      <th></th>\n",
       "      <th>10</th>\n",
       "      <th>90</th>\n",
       "      <th>5</th>\n",
       "      <th>95</th>\n",
       "      <th>1</th>\n",
       "      <th>99</th>\n",
       "    </tr>\n",
       "  </thead>\n",
       "  <tbody>\n",
       "    <tr>\n",
       "      <th>SW1</th>\n",
       "      <td>0.184562</td>\n",
       "      <td>0.225067</td>\n",
       "      <td>0.180722</td>\n",
       "      <td>0.231181</td>\n",
       "      <td>0.170038</td>\n",
       "      <td>0.241502</td>\n",
       "    </tr>\n",
       "    <tr>\n",
       "      <th>SW2</th>\n",
       "      <td>0.105846</td>\n",
       "      <td>0.136034</td>\n",
       "      <td>0.101643</td>\n",
       "      <td>0.140619</td>\n",
       "      <td>0.095147</td>\n",
       "      <td>0.146737</td>\n",
       "    </tr>\n",
       "    <tr>\n",
       "      <th>SW3</th>\n",
       "      <td>0.142147</td>\n",
       "      <td>0.181888</td>\n",
       "      <td>0.136779</td>\n",
       "      <td>0.188766</td>\n",
       "      <td>0.127998</td>\n",
       "      <td>0.198323</td>\n",
       "    </tr>\n",
       "    <tr>\n",
       "      <th>SW4</th>\n",
       "      <td>0.136798</td>\n",
       "      <td>0.171227</td>\n",
       "      <td>0.132958</td>\n",
       "      <td>0.176920</td>\n",
       "      <td>0.123802</td>\n",
       "      <td>0.187245</td>\n",
       "    </tr>\n",
       "    <tr>\n",
       "      <th>SW5</th>\n",
       "      <td>0.108903</td>\n",
       "      <td>0.139855</td>\n",
       "      <td>0.105063</td>\n",
       "      <td>0.144058</td>\n",
       "      <td>0.098582</td>\n",
       "      <td>0.153611</td>\n",
       "    </tr>\n",
       "    <tr>\n",
       "      <th>SW6</th>\n",
       "      <td>0.210929</td>\n",
       "      <td>0.257547</td>\n",
       "      <td>0.205560</td>\n",
       "      <td>0.262916</td>\n",
       "      <td>0.196385</td>\n",
       "      <td>0.278563</td>\n",
       "    </tr>\n",
       "  </tbody>\n",
       "</table>\n",
       "</div>"
      ],
      "text/plain": [
       "           10        90         5        95         1        99\n",
       "SW1  0.184562  0.225067  0.180722  0.231181  0.170038  0.241502\n",
       "SW2  0.105846  0.136034  0.101643  0.140619  0.095147  0.146737\n",
       "SW3  0.142147  0.181888  0.136779  0.188766  0.127998  0.198323\n",
       "SW4  0.136798  0.171227  0.132958  0.176920  0.123802  0.187245\n",
       "SW5  0.108903  0.139855  0.105063  0.144058  0.098582  0.153611\n",
       "SW6  0.210929  0.257547  0.205560  0.262916  0.196385  0.278563"
      ]
     },
     "execution_count": 25,
     "metadata": {},
     "output_type": "execute_result"
    }
   ],
   "source": [
    "w.df_probs_MC"
   ]
  },
  {
   "cell_type": "code",
   "execution_count": null,
   "metadata": {
    "collapsed": true
   },
   "outputs": [],
   "source": []
  }
 ],
 "metadata": {
  "kernelspec": {
   "display_name": "Python 3",
   "language": "python",
   "name": "python3"
  },
  "language_info": {
   "codemirror_mode": {
    "name": "ipython",
    "version": 3
   },
   "file_extension": ".py",
   "mimetype": "text/x-python",
   "name": "python",
   "nbconvert_exporter": "python",
   "pygments_lexer": "ipython3",
   "version": "3.5.1"
  },
  "latex_envs": {
   "bibliofile": "biblio.bib",
   "cite_by": "apalike",
   "current_citInitial": 1,
   "eqLabelWithNumbers": true,
   "eqNumInitial": 0
  }
 },
 "nbformat": 4,
 "nbformat_minor": 0
}
