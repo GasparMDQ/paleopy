{
 "cells": [
  {
   "cell_type": "markdown",
   "metadata": {},
   "source": [
    "# implements the WR (Weather Regime) class"
   ]
  },
  {
   "cell_type": "code",
   "execution_count": 2,
   "metadata": {
    "collapsed": true
   },
   "outputs": [],
   "source": [
    "import os\n",
    "import json\n",
    "import pandas as pd\n",
    "    "
   ]
  },
  {
   "cell_type": "code",
   "execution_count": 3,
   "metadata": {
    "collapsed": true
   },
   "outputs": [],
   "source": [
    "class WR:\n",
    "    \n",
    "\n",
    "    \"\"\"\n",
    "    base class for weather regimes calculations and plots\n",
    "    takes either a proxy or ensemble instance and either 'SW Pacific Regimes' or 'Kidson Types'\n",
    "    \"\"\"\n",
    "    def __init__(self, obj, json_file, classification):\n",
    "        super(WR, self).__init__()\n",
    "              \n",
    "        \n",
    "        # the parent can be either an instance of a `proxy` or `ensemble` class\n",
    "        self.parent = obj\n",
    "        \n",
    "        self.json_file = json_file \n",
    "        self.classification = classification\n",
    "        \n",
    "        # get the season, and the analog years\n",
    "        self.season = self.parent.season\n",
    "        self.analog_years = self.parent.analog_years\n",
    "        self.detrend = self.parent.detrend\n",
    "        \n",
    "    def _open_WR(self): \n",
    "        with open(json_file, 'r') as f:\n",
    "            dict_json = json.loads(f.read())\n",
    "        return dict_json\n",
    "            \n",
    "        \n",
    "    def get_WR_ts(self): \n",
    "        if not(hasattr(self, 'dict_json')): \n",
    "            self.dict_json = _open_WR()\n",
    "        csv = self.dict_json['WR_TS']\n",
    "        wr_ts = pd.read_csv(csv, parse_dates=True, index_col=0)\n",
    "        \n",
    "            \n",
    "    "
   ]
  },
  {
   "cell_type": "code",
   "execution_count": null,
   "metadata": {
    "collapsed": true
   },
   "outputs": [],
   "source": []
  }
 ],
 "metadata": {
  "kernelspec": {
   "display_name": "Python 3",
   "language": "python",
   "name": "python3"
  },
  "language_info": {
   "codemirror_mode": {
    "name": "ipython",
    "version": 3
   },
   "file_extension": ".py",
   "mimetype": "text/x-python",
   "name": "python",
   "nbconvert_exporter": "python",
   "pygments_lexer": "ipython3",
   "version": "3.4.3"
  }
 },
 "nbformat": 4,
 "nbformat_minor": 0
}
