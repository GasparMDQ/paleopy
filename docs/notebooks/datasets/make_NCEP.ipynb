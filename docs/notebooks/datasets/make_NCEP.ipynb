{
 "cells": [
  {
   "cell_type": "code",
   "execution_count": 1,
   "metadata": {
    "collapsed": true
   },
   "outputs": [],
   "source": [
    "%matplotlib inline\n",
    "from matplotlib import pyplot as plt"
   ]
  },
  {
   "cell_type": "code",
   "execution_count": 2,
   "metadata": {
    "collapsed": true
   },
   "outputs": [],
   "source": [
    "import os, sys\n",
    "import numpy as np\n",
    "from numpy import ma\n",
    "import xray"
   ]
  },
  {
   "cell_type": "code",
   "execution_count": 3,
   "metadata": {
    "collapsed": false
   },
   "outputs": [],
   "source": [
    "dpath = os.path.join(os.environ['HOME'], 'data/NCEP1')"
   ]
  },
  {
   "cell_type": "code",
   "execution_count": null,
   "metadata": {
    "collapsed": false
   },
   "outputs": [],
   "source": [
    "dset_u = xray.open_dataset(os.path.join(dpath, 'wind/uwnd.mon.mean.nc'))\n",
    "dset_v = xray.open_dataset(os.path.join(dpath, 'wind/vwnd.mon.mean.nc'))"
   ]
  },
  {
   "cell_type": "code",
   "execution_count": null,
   "metadata": {
    "collapsed": true
   },
   "outputs": [],
   "source": [
    "dset_u = dset_u.sel(time=slice('1948','2014'))\n",
    "dset_v = dset_v.sel(time=slice('1948','2014'))"
   ]
  },
  {
   "cell_type": "code",
   "execution_count": null,
   "metadata": {
    "collapsed": true
   },
   "outputs": [],
   "source": [
    "lat = dset_u['lat'].data\n",
    "lon = dset_u['lon'].data"
   ]
  },
  {
   "cell_type": "code",
   "execution_count": null,
   "metadata": {
    "collapsed": true
   },
   "outputs": [],
   "source": [
    "dates = dset_u['time'].data"
   ]
  },
  {
   "cell_type": "code",
   "execution_count": null,
   "metadata": {
    "collapsed": true
   },
   "outputs": [],
   "source": [
    "uwnd_1000 = dset_u.sel(level=1000)['uwnd'].data"
   ]
  },
  {
   "cell_type": "code",
   "execution_count": null,
   "metadata": {
    "collapsed": false
   },
   "outputs": [],
   "source": [
    "vwnd_1000 = dset_v.sel(level=1000)['vwnd'].data"
   ]
  },
  {
   "cell_type": "code",
   "execution_count": null,
   "metadata": {
    "collapsed": true
   },
   "outputs": [],
   "source": [
    "uwnd_850 = dset_u.sel(level=850)['uwnd'].data"
   ]
  },
  {
   "cell_type": "code",
   "execution_count": null,
   "metadata": {
    "collapsed": true
   },
   "outputs": [],
   "source": [
    "vwnd_850 = dset_v.sel(level=850)['vwnd'].data"
   ]
  },
  {
   "cell_type": "code",
   "execution_count": null,
   "metadata": {
    "collapsed": true
   },
   "outputs": [],
   "source": [
    "uwnd_200 = dset_u.sel(level=200)['uwnd'].data"
   ]
  },
  {
   "cell_type": "code",
   "execution_count": null,
   "metadata": {
    "collapsed": true
   },
   "outputs": [],
   "source": [
    "vwnd_200 = dset_v.sel(level=200)['vwnd'].data"
   ]
  },
  {
   "cell_type": "code",
   "execution_count": null,
   "metadata": {
    "collapsed": true
   },
   "outputs": [],
   "source": [
    "d = {}"
   ]
  },
  {
   "cell_type": "code",
   "execution_count": null,
   "metadata": {
    "collapsed": false
   },
   "outputs": [],
   "source": [
    "d['time'] = ('time',dates)\n",
    "d['latitudes'] = ('latitudes',lat)\n",
    "d['longitudes'] = ('longitudes', lon)\n",
    "d['uwnd_1000'] = (['time','latitudes','longitudes'], uwnd_1000)\n",
    "d['vwnd_1000'] = (['time','latitudes','longitudes'], vwnd_1000)\n",
    "d['uwnd_850'] = (['time','latitudes','longitudes'], uwnd_850)\n",
    "d['vwnd_850'] = (['time','latitudes','longitudes'], vwnd_850)\n",
    "d['uwnd_200'] = (['time','latitudes','longitudes'], uwnd_200)\n",
    "d['vwnd_200'] = (['time','latitudes','longitudes'], vwnd_200)"
   ]
  },
  {
   "cell_type": "code",
   "execution_count": null,
   "metadata": {
    "collapsed": true
   },
   "outputs": [],
   "source": [
    "wind = xray.Dataset(d)"
   ]
  },
  {
   "cell_type": "code",
   "execution_count": null,
   "metadata": {
    "collapsed": false
   },
   "outputs": [],
   "source": [
    "wind"
   ]
  },
  {
   "cell_type": "code",
   "execution_count": null,
   "metadata": {
    "collapsed": true
   },
   "outputs": [],
   "source": [
    "wind.to_netcdf('./outputs/NCEP1_monthly_wind_1948_2014.nc')"
   ]
  },
  {
   "cell_type": "code",
   "execution_count": null,
   "metadata": {
    "collapsed": true
   },
   "outputs": [],
   "source": [
    "dset_u.close()\n",
    "dset_v.close()"
   ]
  },
  {
   "cell_type": "code",
   "execution_count": 4,
   "metadata": {
    "collapsed": true
   },
   "outputs": [],
   "source": [
    "dset_hgt = xray.open_dataset(os.path.join(dpath, 'hgt/hgt.mon.mean.nc'))"
   ]
  },
  {
   "cell_type": "code",
   "execution_count": 5,
   "metadata": {
    "collapsed": false
   },
   "outputs": [
    {
     "data": {
      "text/plain": [
       "<xray.Dataset>\n",
       "Dimensions:  (lat: 73, level: 17, lon: 144, time: 812)\n",
       "Coordinates:\n",
       "  * level    (level) float32 1000.0 925.0 850.0 700.0 600.0 500.0 400.0 ...\n",
       "  * lat      (lat) float32 90.0 87.5 85.0 82.5 80.0 77.5 75.0 72.5 70.0 67.5 ...\n",
       "  * lon      (lon) float32 0.0 2.5 5.0 7.5 10.0 12.5 15.0 17.5 20.0 22.5 ...\n",
       "  * time     (time) datetime64[ns] 1948-01-01 1948-02-01 1948-03-01 ...\n",
       "Data variables:\n",
       "    hgt      (time, level, lat, lon) float64 110.0 110.0 110.0 110.0 110.0 ...\n",
       "Attributes:\n",
       "    description:  Data from NCEP initialized reanalysis (4x/day).  These are interpolated to pressure surfaces from model (sigma) surfaces.\n",
       "    platform: Model\n",
       "    Conventions: COARDS\n",
       "    references: http://www.esrl.noaa.gov/psd/data/gridded/data.ncep.reanalysis.derived.html\n",
       "    NCO: 20121012\n",
       "    history: Created by NOAA-CIRES Climate Diagnostics Center (SAC) from the NCEP\n",
       "reanalysis data set on 07/07/97 by calc.mon.mean.year.f using\n",
       "/Datasets/nmc.reanalysis.derived/pressure/hgt.mon.mean.nc\n",
       "from /Datasets/nmc.reanalysis/pressure/hgt.79.nc to hgt.95.nc\n",
       "Converted to chunked, deflated non-packed NetCDF4 2014/09\n",
       "    title: monthly mean hgt from the NCEP Reanalysis"
      ]
     },
     "execution_count": 5,
     "metadata": {},
     "output_type": "execute_result"
    }
   ],
   "source": [
    "dset_hgt"
   ]
  },
  {
   "cell_type": "code",
   "execution_count": 6,
   "metadata": {
    "collapsed": true
   },
   "outputs": [],
   "source": [
    "lat = dset_hgt['lat'].data\n",
    "lon = dset_hgt['lon'].data"
   ]
  },
  {
   "cell_type": "code",
   "execution_count": 7,
   "metadata": {
    "collapsed": true
   },
   "outputs": [],
   "source": [
    "dset_hgt = dset_hgt.sel(time=slice('1948','2014'))"
   ]
  },
  {
   "cell_type": "code",
   "execution_count": 8,
   "metadata": {
    "collapsed": true
   },
   "outputs": [],
   "source": [
    "dates = dset_hgt['time'].data"
   ]
  },
  {
   "cell_type": "code",
   "execution_count": 9,
   "metadata": {
    "collapsed": true
   },
   "outputs": [],
   "source": [
    "hgt_1000 = dset_hgt.sel(level=1000)['hgt'].data"
   ]
  },
  {
   "cell_type": "code",
   "execution_count": 10,
   "metadata": {
    "collapsed": true
   },
   "outputs": [],
   "source": [
    "hgt_850 = dset_hgt.sel(level=850)['hgt'].data"
   ]
  },
  {
   "cell_type": "code",
   "execution_count": 11,
   "metadata": {
    "collapsed": true
   },
   "outputs": [],
   "source": [
    "hgt_200 = dset_hgt.sel(level=200)['hgt'].data"
   ]
  },
  {
   "cell_type": "code",
   "execution_count": 12,
   "metadata": {
    "collapsed": true
   },
   "outputs": [],
   "source": [
    "d = {}\n",
    "d['time'] = ('time',dates)\n",
    "d['latitudes'] = ('latitudes',lat)\n",
    "d['longitudes'] = ('longitudes', lon)\n",
    "d['hgt_1000'] = (['time','latitudes','longitudes'], hgt_1000)\n",
    "d['hgt_850'] = (['time','latitudes','longitudes'], hgt_850)\n",
    "d['hgt_200'] = (['time','latitudes','longitudes'], hgt_200)"
   ]
  },
  {
   "cell_type": "code",
   "execution_count": 13,
   "metadata": {
    "collapsed": true
   },
   "outputs": [],
   "source": [
    "hgt = xray.Dataset(d)"
   ]
  },
  {
   "cell_type": "code",
   "execution_count": 14,
   "metadata": {
    "collapsed": false
   },
   "outputs": [
    {
     "data": {
      "text/plain": [
       "<xray.Dataset>\n",
       "Dimensions:     (latitudes: 73, longitudes: 144, time: 804)\n",
       "Coordinates:\n",
       "  * time        (time) datetime64[ns] 1948-01-01 1948-02-01 1948-03-01 ...\n",
       "  * longitudes  (longitudes) float32 0.0 2.5 5.0 7.5 10.0 12.5 15.0 17.5 ...\n",
       "  * latitudes   (latitudes) float32 90.0 87.5 85.0 82.5 80.0 77.5 75.0 72.5 ...\n",
       "Data variables:\n",
       "    hgt_200     (time, latitudes, longitudes) float64 1.08e+04 1.08e+04 ...\n",
       "    hgt_1000    (time, latitudes, longitudes) float64 110.0 110.0 110.0 ...\n",
       "    hgt_850     (time, latitudes, longitudes) float64 1.279e+03 1.279e+03 ..."
      ]
     },
     "execution_count": 14,
     "metadata": {},
     "output_type": "execute_result"
    }
   ],
   "source": [
    "hgt"
   ]
  },
  {
   "cell_type": "code",
   "execution_count": 15,
   "metadata": {
    "collapsed": true
   },
   "outputs": [],
   "source": [
    "hgt.to_netcdf('./outputs/NCEP1_monthly_hgt_1948_2014.nc')"
   ]
  },
  {
   "cell_type": "code",
   "execution_count": 17,
   "metadata": {
    "collapsed": true
   },
   "outputs": [],
   "source": [
    "!cp ./outputs/NCEP1_monthly_hgt_1948_2014.nc /Users/nicolasf/research/NIWA/paleo/pict/data/NCEP1_monthly_hgt_1948_2014.nc"
   ]
  },
  {
   "cell_type": "code",
   "execution_count": 16,
   "metadata": {
    "collapsed": true
   },
   "outputs": [],
   "source": [
    "dset_hgt.close()"
   ]
  },
  {
   "cell_type": "code",
   "execution_count": null,
   "metadata": {
    "collapsed": true
   },
   "outputs": [],
   "source": [
    "dset_omega = xray.open_dataset(os.path.join(dpath, 'omega/omega.mon.mean.nc'))"
   ]
  },
  {
   "cell_type": "code",
   "execution_count": null,
   "metadata": {
    "collapsed": false
   },
   "outputs": [],
   "source": [
    "dset_omega"
   ]
  },
  {
   "cell_type": "code",
   "execution_count": null,
   "metadata": {
    "collapsed": true
   },
   "outputs": [],
   "source": [
    "dset_omega = dset_omega.sel(level=500, time=slice('1948','2014'))"
   ]
  },
  {
   "cell_type": "code",
   "execution_count": null,
   "metadata": {
    "collapsed": true
   },
   "outputs": [],
   "source": [
    "lat = dset_omega['lat'].data\n",
    "lon = dset_omega['lon'].data"
   ]
  },
  {
   "cell_type": "code",
   "execution_count": null,
   "metadata": {
    "collapsed": true
   },
   "outputs": [],
   "source": [
    "dates = dset_omega['time'].data"
   ]
  },
  {
   "cell_type": "code",
   "execution_count": null,
   "metadata": {
    "collapsed": false
   },
   "outputs": [],
   "source": [
    "omega_500 = dset_omega['omega'].data"
   ]
  },
  {
   "cell_type": "code",
   "execution_count": null,
   "metadata": {
    "collapsed": true
   },
   "outputs": [],
   "source": [
    "d = {}\n",
    "d['time'] = ('time',dates)\n",
    "d['latitudes'] = ('latitudes',lat)\n",
    "d['longitudes'] = ('longitudes', lon)\n",
    "d['omega_500'] = (['time','latitudes','longitudes'], omega_500)"
   ]
  },
  {
   "cell_type": "code",
   "execution_count": null,
   "metadata": {
    "collapsed": true
   },
   "outputs": [],
   "source": [
    "omega = xray.Dataset(d)"
   ]
  },
  {
   "cell_type": "code",
   "execution_count": null,
   "metadata": {
    "collapsed": true
   },
   "outputs": [],
   "source": [
    "omega.to_netcdf('./outputs/NCEP1_monthly_omega_1948_2014.nc')"
   ]
  },
  {
   "cell_type": "code",
   "execution_count": null,
   "metadata": {
    "collapsed": true
   },
   "outputs": [],
   "source": [
    "omega.close()"
   ]
  },
  {
   "cell_type": "code",
   "execution_count": null,
   "metadata": {
    "collapsed": false
   },
   "outputs": [],
   "source": [
    "omega"
   ]
  },
  {
   "cell_type": "code",
   "execution_count": null,
   "metadata": {
    "collapsed": true
   },
   "outputs": [],
   "source": []
  },
  {
   "cell_type": "code",
   "execution_count": null,
   "metadata": {
    "collapsed": true
   },
   "outputs": [],
   "source": []
  }
 ],
 "metadata": {
  "kernelspec": {
   "display_name": "Python 3",
   "language": "python",
   "name": "python3"
  },
  "language_info": {
   "codemirror_mode": {
    "name": "ipython",
    "version": 3
   },
   "file_extension": ".py",
   "mimetype": "text/x-python",
   "name": "python",
   "nbconvert_exporter": "python",
   "pygments_lexer": "ipython3",
   "version": "3.4.3"
  }
 },
 "nbformat": 4,
 "nbformat_minor": 0
}
