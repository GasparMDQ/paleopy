{
 "cells": [
  {
   "cell_type": "code",
   "execution_count": 1,
   "metadata": {
    "collapsed": true
   },
   "outputs": [],
   "source": [
    "%matplotlib inline\n",
    "from matplotlib import pyplot as plt"
   ]
  },
  {
   "cell_type": "code",
   "execution_count": 2,
   "metadata": {
    "collapsed": true
   },
   "outputs": [],
   "source": [
    "import os, sys\n",
    "import numpy as np\n",
    "from numpy import ma\n",
    "import pandas as pd\n",
    "import xray\n",
    "from scipy.signal import detrend"
   ]
  },
  {
   "cell_type": "code",
   "execution_count": 3,
   "metadata": {
    "collapsed": true
   },
   "outputs": [],
   "source": [
    "dset = xray.open_dataset('/Users/nicolasf/data/SST/ERSST/ersst.realtime.nc')"
   ]
  },
  {
   "cell_type": "code",
   "execution_count": 4,
   "metadata": {
    "collapsed": false
   },
   "outputs": [
    {
     "data": {
      "text/plain": [
       "<xray.Dataset>\n",
       "Dimensions:  (lat: 89, lon: 180, time: 810, zlev: 1)\n",
       "Coordinates:\n",
       "  * time     (time) datetime64[ns] 1948-02-15 1948-03-15 1948-04-15 ...\n",
       "  * zlev     (zlev) float32 0.0\n",
       "  * lat      (lat) float32 -88.0 -86.0 -84.0 -82.0 -80.0 -78.0 -76.0 -74.0 ...\n",
       "  * lon      (lon) float32 0.0 2.0 4.0 6.0 8.0 10.0 12.0 14.0 16.0 18.0 20.0 ...\n",
       "Data variables:\n",
       "    sst      (time, zlev, lat, lon) float64 nan nan nan nan nan nan nan nan ...\n",
       "    anom     (time, zlev, lat, lon) float64 nan nan nan nan nan nan nan nan ...\n",
       "    err      (time, zlev, lat, lon) float64 nan nan nan nan nan nan nan nan ...\n",
       "Attributes:\n",
       "    title: ERSST V3b in situ only\n",
       "    history: Wed Aug  5 15:51:28 2015: /usr/local/bin/ncrcat -O ersst.194802_ft.nc ersst.194803_ft.nc ersst.194804_ft.nc ersst.194805_ft.nc ersst.194806_ft.nc ersst.194807_ft.nc ersst.194808_ft.nc ersst.194809_ft.nc ersst.194810_ft.nc ersst.194811_ft.nc ersst.194812_ft.nc ersst.194901_ft.nc ersst.194902_ft.nc ersst.194903_ft.nc ersst.194904_ft.nc ersst.194905_ft.nc ersst.194906_ft.nc ersst.194907_ft.nc ersst.194908_ft.nc ersst.194909_ft.nc ersst.194910_ft.nc ersst.194911_ft.nc ersst.194912_ft.nc ersst.195...\n",
       "    creation_date: 2010-03-23\n",
       "    description: Smith, T.M., and R.W. Reynolds, 2003: Extended Reconstruction of Global Sea Surface Temperatures Based on COADS Data (1854-1997). Journal of Climate, 16, 1495-1510. A vailable at http://www.ncdc.noaa.gov/img/climate/research/sst/ersst.pdf  Climatology is based on 1971-2000 OI.v2 SST, In situ data: ICOADS2.4 before 2006 and NCEP in situ data from 2007 to present\n",
       "    source: NOAA/National Climatic Data Center\n",
       "    contact: Dick Reynolds, email: Richard.W.Reynolds@noaa.gov & Chunying Liu, email: Chunying.liu@noaa.gov\n",
       "    Conventions: CF-1.0\n",
       "    nco_openmp_thread_number: 1"
      ]
     },
     "execution_count": 4,
     "metadata": {},
     "output_type": "execute_result"
    }
   ],
   "source": [
    "dset"
   ]
  },
  {
   "cell_type": "code",
   "execution_count": 5,
   "metadata": {
    "collapsed": false
   },
   "outputs": [
    {
     "data": {
      "text/plain": [
       "<xray.DataArray 'lon' (lon: 180)>\n",
       "array([   0.,    2.,    4.,    6.,    8.,   10.,   12.,   14.,   16.,\n",
       "         18.,   20.,   22.,   24.,   26.,   28.,   30.,   32.,   34.,\n",
       "         36.,   38.,   40.,   42.,   44.,   46.,   48.,   50.,   52.,\n",
       "         54.,   56.,   58.,   60.,   62.,   64.,   66.,   68.,   70.,\n",
       "         72.,   74.,   76.,   78.,   80.,   82.,   84.,   86.,   88.,\n",
       "         90.,   92.,   94.,   96.,   98.,  100.,  102.,  104.,  106.,\n",
       "        108.,  110.,  112.,  114.,  116.,  118.,  120.,  122.,  124.,\n",
       "        126.,  128.,  130.,  132.,  134.,  136.,  138.,  140.,  142.,\n",
       "        144.,  146.,  148.,  150.,  152.,  154.,  156.,  158.,  160.,\n",
       "        162.,  164.,  166.,  168.,  170.,  172.,  174.,  176.,  178.,\n",
       "        180.,  182.,  184.,  186.,  188.,  190.,  192.,  194.,  196.,\n",
       "        198.,  200.,  202.,  204.,  206.,  208.,  210.,  212.,  214.,\n",
       "        216.,  218.,  220.,  222.,  224.,  226.,  228.,  230.,  232.,\n",
       "        234.,  236.,  238.,  240.,  242.,  244.,  246.,  248.,  250.,\n",
       "        252.,  254.,  256.,  258.,  260.,  262.,  264.,  266.,  268.,\n",
       "        270.,  272.,  274.,  276.,  278.,  280.,  282.,  284.,  286.,\n",
       "        288.,  290.,  292.,  294.,  296.,  298.,  300.,  302.,  304.,\n",
       "        306.,  308.,  310.,  312.,  314.,  316.,  318.,  320.,  322.,\n",
       "        324.,  326.,  328.,  330.,  332.,  334.,  336.,  338.,  340.,\n",
       "        342.,  344.,  346.,  348.,  350.,  352.,  354.,  356.,  358.], dtype=float32)\n",
       "Coordinates:\n",
       "  * lon      (lon) float32 0.0 2.0 4.0 6.0 8.0 10.0 12.0 14.0 16.0 18.0 20.0 ...\n",
       "Attributes:\n",
       "    long_name: Longitude\n",
       "    units: degrees_east\n",
       "    grids: Uniform grid from 0 to 358 by 2"
      ]
     },
     "execution_count": 5,
     "metadata": {},
     "output_type": "execute_result"
    }
   ],
   "source": [
    "dset['lon']"
   ]
  },
  {
   "cell_type": "code",
   "execution_count": 6,
   "metadata": {
    "collapsed": false
   },
   "outputs": [
    {
     "data": {
      "text/plain": [
       "<xray.DataArray 'lat' (lat: 89)>\n",
       "array([-88., -86., -84., -82., -80., -78., -76., -74., -72., -70., -68.,\n",
       "       -66., -64., -62., -60., -58., -56., -54., -52., -50., -48., -46.,\n",
       "       -44., -42., -40., -38., -36., -34., -32., -30., -28., -26., -24.,\n",
       "       -22., -20., -18., -16., -14., -12., -10.,  -8.,  -6.,  -4.,  -2.,\n",
       "         0.,   2.,   4.,   6.,   8.,  10.,  12.,  14.,  16.,  18.,  20.,\n",
       "        22.,  24.,  26.,  28.,  30.,  32.,  34.,  36.,  38.,  40.,  42.,\n",
       "        44.,  46.,  48.,  50.,  52.,  54.,  56.,  58.,  60.,  62.,  64.,\n",
       "        66.,  68.,  70.,  72.,  74.,  76.,  78.,  80.,  82.,  84.,  86.,\n",
       "        88.], dtype=float32)\n",
       "Coordinates:\n",
       "  * lat      (lat) float32 -88.0 -86.0 -84.0 -82.0 -80.0 -78.0 -76.0 -74.0 ...\n",
       "Attributes:\n",
       "    long_name: Latitude\n",
       "    units: degrees_north\n",
       "    grids: Uniform grid from -88 to 88 by 2"
      ]
     },
     "execution_count": 6,
     "metadata": {},
     "output_type": "execute_result"
    }
   ],
   "source": [
    "dset['lat']"
   ]
  },
  {
   "cell_type": "markdown",
   "metadata": {},
   "source": [
    "### selects 1972 - 2014 (same as VCSN)"
   ]
  },
  {
   "cell_type": "code",
   "execution_count": 7,
   "metadata": {
    "collapsed": false
   },
   "outputs": [],
   "source": [
    "dset = dset.sel(zlev=0, time=slice('1948','2014'))"
   ]
  },
  {
   "cell_type": "code",
   "execution_count": 8,
   "metadata": {
    "collapsed": true
   },
   "outputs": [],
   "source": [
    "lat = dset['lat'].data\n",
    "lon = dset['lon'].data"
   ]
  },
  {
   "cell_type": "code",
   "execution_count": 9,
   "metadata": {
    "collapsed": false
   },
   "outputs": [
    {
     "data": {
      "text/plain": [
       "array([   0.,    2.,    4.,    6.,    8.,   10.,   12.,   14.,   16.,\n",
       "         18.,   20.,   22.,   24.,   26.,   28.,   30.,   32.,   34.,\n",
       "         36.,   38.,   40.,   42.,   44.,   46.,   48.,   50.,   52.,\n",
       "         54.,   56.,   58.,   60.,   62.,   64.,   66.,   68.,   70.,\n",
       "         72.,   74.,   76.,   78.,   80.,   82.,   84.,   86.,   88.,\n",
       "         90.,   92.,   94.,   96.,   98.,  100.,  102.,  104.,  106.,\n",
       "        108.,  110.,  112.,  114.,  116.,  118.,  120.,  122.,  124.,\n",
       "        126.,  128.,  130.,  132.,  134.,  136.,  138.,  140.,  142.,\n",
       "        144.,  146.,  148.,  150.,  152.,  154.,  156.,  158.,  160.,\n",
       "        162.,  164.,  166.,  168.,  170.,  172.,  174.,  176.,  178.,\n",
       "        180.,  182.,  184.,  186.,  188.,  190.,  192.,  194.,  196.,\n",
       "        198.,  200.,  202.,  204.,  206.,  208.,  210.,  212.,  214.,\n",
       "        216.,  218.,  220.,  222.,  224.,  226.,  228.,  230.,  232.,\n",
       "        234.,  236.,  238.,  240.,  242.,  244.,  246.,  248.,  250.,\n",
       "        252.,  254.,  256.,  258.,  260.,  262.,  264.,  266.,  268.,\n",
       "        270.,  272.,  274.,  276.,  278.,  280.,  282.,  284.,  286.,\n",
       "        288.,  290.,  292.,  294.,  296.,  298.,  300.,  302.,  304.,\n",
       "        306.,  308.,  310.,  312.,  314.,  316.,  318.,  320.,  322.,\n",
       "        324.,  326.,  328.,  330.,  332.,  334.,  336.,  338.,  340.,\n",
       "        342.,  344.,  346.,  348.,  350.,  352.,  354.,  356.,  358.], dtype=float32)"
      ]
     },
     "execution_count": 9,
     "metadata": {},
     "output_type": "execute_result"
    }
   ],
   "source": [
    "lon"
   ]
  },
  {
   "cell_type": "code",
   "execution_count": 10,
   "metadata": {
    "collapsed": false
   },
   "outputs": [],
   "source": [
    "def get_mask(var):\n",
    "    mat = var.data\n",
    "    X = np.reshape(mat, (mat.shape[0],  mat.shape[1] * mat.shape[2]), order='F')\n",
    "    X = ma.masked_array(X, np.isnan(X))\n",
    "    mask = X.sum(0).mask\n",
    "    mask = mask.reshape((mat.shape[1], mat.shape[2]), order='F')\n",
    "    return mask"
   ]
  },
  {
   "cell_type": "code",
   "execution_count": 17,
   "metadata": {
    "collapsed": false
   },
   "outputs": [],
   "source": [
    "mask = get_mask(dset['sst'])"
   ]
  },
  {
   "cell_type": "code",
   "execution_count": 18,
   "metadata": {
    "collapsed": false
   },
   "outputs": [
    {
     "data": {
      "text/plain": [
       "array([[ True,  True,  True, ...,  True,  True,  True],\n",
       "       [ True,  True,  True, ...,  True,  True,  True],\n",
       "       [ True,  True,  True, ...,  True,  True,  True],\n",
       "       ..., \n",
       "       [False, False, False, ..., False, False, False],\n",
       "       [False, False, False, ..., False, False, False],\n",
       "       [False, False, False, ..., False, False, False]], dtype=bool)"
      ]
     },
     "execution_count": 18,
     "metadata": {},
     "output_type": "execute_result"
    }
   ],
   "source": [
    "mask"
   ]
  },
  {
   "cell_type": "code",
   "execution_count": 15,
   "metadata": {
    "collapsed": false
   },
   "outputs": [],
   "source": [
    "#mask = np.logical_not(mask)"
   ]
  },
  {
   "cell_type": "code",
   "execution_count": 19,
   "metadata": {
    "collapsed": false
   },
   "outputs": [
    {
     "data": {
      "text/plain": [
       "<matplotlib.colorbar.Colorbar at 0x129093b00>"
      ]
     },
     "execution_count": 19,
     "metadata": {},
     "output_type": "execute_result"
    },
    {
     "data": {
      "image/png": "[encoded data removed]",
      "text/plain": [
       "<matplotlib.figure.Figure at 0x106dc6908>"
      ]
     },
     "metadata": {},
     "output_type": "display_data"
    }
   ],
   "source": [
    "plt.imshow(mask); plt.colorbar()"
   ]
  },
  {
   "cell_type": "code",
   "execution_count": 27,
   "metadata": {
    "collapsed": false
   },
   "outputs": [],
   "source": [
    "mask = mask.astype(np.int)"
   ]
  },
  {
   "cell_type": "code",
   "execution_count": 29,
   "metadata": {
    "collapsed": false
   },
   "outputs": [
    {
     "data": {
      "text/plain": [
       "<matplotlib.colorbar.Colorbar at 0x12a7d0fd0>"
      ]
     },
     "execution_count": 29,
     "metadata": {},
     "output_type": "execute_result"
    },
    {
     "data": {
      "image/png": "[encoded data removed]",
      "text/plain": [
       "<matplotlib.figure.Figure at 0x12a467198>"
      ]
     },
     "metadata": {},
     "output_type": "display_data"
    }
   ],
   "source": [
    "plt.imshow(mask); plt.colorbar()"
   ]
  },
  {
   "cell_type": "code",
   "execution_count": 28,
   "metadata": {
    "collapsed": false
   },
   "outputs": [
    {
     "data": {
      "text/plain": [
       "array([[1, 1, 1, ..., 1, 1, 1],\n",
       "       [1, 1, 1, ..., 1, 1, 1],\n",
       "       [1, 1, 1, ..., 1, 1, 1],\n",
       "       ..., \n",
       "       [0, 0, 0, ..., 0, 0, 0],\n",
       "       [0, 0, 0, ..., 0, 0, 0],\n",
       "       [0, 0, 0, ..., 0, 0, 0]])"
      ]
     },
     "execution_count": 28,
     "metadata": {},
     "output_type": "execute_result"
    }
   ],
   "source": [
    "mask"
   ]
  },
  {
   "cell_type": "code",
   "execution_count": 38,
   "metadata": {
    "collapsed": false
   },
   "outputs": [],
   "source": [
    "d = {}\n",
    "d['time'] = ('time',dset['time'])\n",
    "d['latitudes'] = ('latitudes',lat)\n",
    "d['longitudes'] = ('longitudes', lon)\n",
    "d['mask'] = (['latitudes','longitudes'], mask)\n",
    "d['sst'] = (['time','latitudes','longitudes'], dset['sst'].data)"
   ]
  },
  {
   "cell_type": "code",
   "execution_count": 39,
   "metadata": {
    "collapsed": false
   },
   "outputs": [],
   "source": [
    "dset_out = xray.Dataset(d)"
   ]
  },
  {
   "cell_type": "code",
   "execution_count": 40,
   "metadata": {
    "collapsed": false
   },
   "outputs": [
    {
     "data": {
      "text/plain": [
       "<matplotlib.image.AxesImage at 0x12b81eb70>"
      ]
     },
     "execution_count": 40,
     "metadata": {},
     "output_type": "execute_result"
    },
    {
     "data": {
      "image/png": "[encoded data removed]",
      "text/plain": [
       "<matplotlib.figure.Figure at 0x12b6ae7b8>"
      ]
     },
     "metadata": {},
     "output_type": "display_data"
    }
   ],
   "source": [
    "dset_out['mask'].plot(yincrease=True)"
   ]
  },
  {
   "cell_type": "code",
   "execution_count": 33,
   "metadata": {
    "collapsed": false
   },
   "outputs": [
    {
     "data": {
      "text/plain": [
       "<matplotlib.colorbar.Colorbar at 0x12b4afd30>"
      ]
     },
     "execution_count": 33,
     "metadata": {},
     "output_type": "execute_result"
    },
    {
     "data": {
      "image/png": "[encoded data removed]",
      "text/plain": [
       "<matplotlib.figure.Figure at 0x12b30be10>"
      ]
     },
     "metadata": {},
     "output_type": "display_data"
    }
   ],
   "source": [
    "plt.imshow(dset_out['sst'][0,:,:]); plt.colorbar()"
   ]
  },
  {
   "cell_type": "code",
   "execution_count": 41,
   "metadata": {
    "collapsed": false
   },
   "outputs": [],
   "source": [
    "dset_out.to_netcdf('/Users/nicolasf/research/NIWA/paleo/pict/data/ERSST_monthly_SST_1948_2014.nc')"
   ]
  },
  {
   "cell_type": "markdown",
   "metadata": {},
   "source": [
    "### calculates anomalies WRT to 1981 - 2010"
   ]
  },
  {
   "cell_type": "code",
   "execution_count": null,
   "metadata": {
    "collapsed": true
   },
   "outputs": [],
   "source": [
    "def demean(x): \n",
    "    return x - x.sel(time=slice('1981-1-1','2010-12-1')).mean('time')"
   ]
  },
  {
   "cell_type": "code",
   "execution_count": null,
   "metadata": {
    "collapsed": false
   },
   "outputs": [],
   "source": [
    "sst_anomalies = dset['sst'].groupby('time.month').apply(demean)"
   ]
  },
  {
   "cell_type": "code",
   "execution_count": null,
   "metadata": {
    "collapsed": true
   },
   "outputs": [],
   "source": [
    "def detrend_var(var): \n",
    "    \"\"\"\n",
    "    var must be a xray dataarray\n",
    "    \"\"\"\n",
    "    mat = var.data\n",
    "    X = np.reshape(mat, (mat.shape[0],  mat.shape[1] * mat.shape[2]), order='F')\n",
    "    X = ma.masked_array(X, np.isnan(X))\n",
    "    land = X.sum(0).mask\n",
    "    ocean = -land\n",
    "    Xocean = X[:,ocean]\n",
    "    Xocean = detrend(Xocean, axis=0) + Xocean.mean(0)\n",
    "    Xdetrend = np.ones(X.shape) * -999.\n",
    "    Xdetrend[:,ocean] = Xocean\n",
    "    Xdetrend = np.reshape(Xdetrend, mat.shape, order='F')\n",
    "    Xdetrend = ma.masked_values(Xdetrend, -999.)\n",
    "    mask = land.reshape((mat.shape[1], mat.shape[2]), order='F')\n",
    "    return mask, Xdetrend"
   ]
  },
  {
   "cell_type": "markdown",
   "metadata": {},
   "source": [
    "### detrend the raw values"
   ]
  },
  {
   "cell_type": "code",
   "execution_count": null,
   "metadata": {
    "collapsed": true
   },
   "outputs": [],
   "source": [
    "mask, sst_detrend = detrend_var(dset['sst'])"
   ]
  },
  {
   "cell_type": "markdown",
   "metadata": {},
   "source": [
    "### detrend the anomalies"
   ]
  },
  {
   "cell_type": "code",
   "execution_count": null,
   "metadata": {
    "collapsed": false
   },
   "outputs": [],
   "source": [
    "mask, sst_anomalies_detrend = detrend_var(sst_anomalies)"
   ]
  },
  {
   "cell_type": "code",
   "execution_count": null,
   "metadata": {
    "collapsed": false
   },
   "outputs": [],
   "source": [
    "plt.imshow(sst_anomalies_detrend[0,:,:])"
   ]
  },
  {
   "cell_type": "code",
   "execution_count": null,
   "metadata": {
    "collapsed": false
   },
   "outputs": [],
   "source": [
    "plt.imshow(sst_detrend[-2,::-1,:], vmin=0, vmax=30)"
   ]
  },
  {
   "cell_type": "code",
   "execution_count": null,
   "metadata": {
    "collapsed": false
   },
   "outputs": [],
   "source": [
    "plt.plot(sst_detrend[:,50,100])\n",
    "plt.plot(dset['sst'][:,50,100])"
   ]
  },
  {
   "cell_type": "code",
   "execution_count": null,
   "metadata": {
    "collapsed": false
   },
   "outputs": [],
   "source": [
    "plt.plot()"
   ]
  },
  {
   "cell_type": "code",
   "execution_count": null,
   "metadata": {
    "collapsed": true
   },
   "outputs": [],
   "source": [
    "detrend?"
   ]
  },
  {
   "cell_type": "code",
   "execution_count": null,
   "metadata": {
    "collapsed": false
   },
   "outputs": [],
   "source": [
    "X = np.reshape(mat, (mat.shape[0], len(lat) * len(lon)), order='F')"
   ]
  },
  {
   "cell_type": "code",
   "execution_count": null,
   "metadata": {
    "collapsed": true
   },
   "outputs": [],
   "source": [
    "X = ma.masked_array(X, np.isnan(X))"
   ]
  },
  {
   "cell_type": "code",
   "execution_count": null,
   "metadata": {
    "collapsed": true
   },
   "outputs": [],
   "source": [
    "land = X.sum(0).mask"
   ]
  },
  {
   "cell_type": "code",
   "execution_count": null,
   "metadata": {
    "collapsed": true
   },
   "outputs": [],
   "source": [
    "ocean = -land"
   ]
  },
  {
   "cell_type": "code",
   "execution_count": null,
   "metadata": {
    "collapsed": true
   },
   "outputs": [],
   "source": [
    "Xocean = X[:,ocean]"
   ]
  },
  {
   "cell_type": "code",
   "execution_count": null,
   "metadata": {
    "collapsed": false
   },
   "outputs": [],
   "source": [
    "Xocean.shape"
   ]
  },
  {
   "cell_type": "code",
   "execution_count": null,
   "metadata": {
    "collapsed": false
   },
   "outputs": [],
   "source": [
    "Xocean = detrend(Xocean, axis=0)"
   ]
  },
  {
   "cell_type": "code",
   "execution_count": null,
   "metadata": {
    "collapsed": true
   },
   "outputs": [],
   "source": [
    "Xdetrend = np.ones(X.shape) * -999."
   ]
  },
  {
   "cell_type": "code",
   "execution_count": null,
   "metadata": {
    "collapsed": false
   },
   "outputs": [],
   "source": [
    "Xdetrend[:,ocean] = Xocean"
   ]
  },
  {
   "cell_type": "code",
   "execution_count": null,
   "metadata": {
    "collapsed": false
   },
   "outputs": [],
   "source": [
    "Xdetrend.shape"
   ]
  },
  {
   "cell_type": "code",
   "execution_count": null,
   "metadata": {
    "collapsed": false
   },
   "outputs": [],
   "source": [
    "X.shape"
   ]
  },
  {
   "cell_type": "code",
   "execution_count": null,
   "metadata": {
    "collapsed": true
   },
   "outputs": [],
   "source": [
    "Xdetrend = np.reshape(Xdetrend, mat.shape, order='F')"
   ]
  },
  {
   "cell_type": "code",
   "execution_count": null,
   "metadata": {
    "collapsed": true
   },
   "outputs": [],
   "source": [
    "Xdetrend = ma.masked_values(Xdetrend, -999.)"
   ]
  },
  {
   "cell_type": "code",
   "execution_count": null,
   "metadata": {
    "collapsed": false
   },
   "outputs": [],
   "source": [
    "plt.imshow(Xdetrend[0,::-1,:])"
   ]
  },
  {
   "cell_type": "code",
   "execution_count": null,
   "metadata": {
    "collapsed": false
   },
   "outputs": [],
   "source": [
    "mask = land.reshape((len(lat), len(lon)), order='F')"
   ]
  },
  {
   "cell_type": "code",
   "execution_count": null,
   "metadata": {
    "collapsed": true
   },
   "outputs": [],
   "source": []
  },
  {
   "cell_type": "code",
   "execution_count": null,
   "metadata": {
    "collapsed": false
   },
   "outputs": [],
   "source": [
    "d = {}\n",
    "d['time'] = ('time',dset['time'])\n",
    "d['lat'] = ('latitudes',lat)\n",
    "d['lon'] = ('longitudes', lon)\n",
    "d['mask'] = (['latitudes','longitudes'], mask)\n",
    "d['sst'] = (['time','latitudes','longitudes'], dset['sst'].data)\n",
    "d['sst_detrend'] = (['time','latitudes','longitudes'], dset['sst'].data)\n",
    "d['sst_anomalies'] = (['time','latitudes','longitudes'], sst_anoms)\n",
    "d['sst_anomalies_detrend'] = (['time','latitudes','longitudes'], sstd)\n",
    "\n"
   ]
  },
  {
   "cell_type": "code",
   "execution_count": null,
   "metadata": {
    "collapsed": true
   },
   "outputs": [],
   "source": [
    "dset_detrend = xray.Dataset(d)"
   ]
  },
  {
   "cell_type": "code",
   "execution_count": null,
   "metadata": {
    "collapsed": false
   },
   "outputs": [],
   "source": [
    "dset_detrend"
   ]
  },
  {
   "cell_type": "code",
   "execution_count": null,
   "metadata": {
    "collapsed": true
   },
   "outputs": [],
   "source": [
    "dset_detrend.to_netcdf('/Users/nicolasf/research/NIWA/paleo/pict/data/ERSST_anoms_Detrend_1979_2010.nc')"
   ]
  },
  {
   "cell_type": "code",
   "execution_count": null,
   "metadata": {
    "collapsed": false
   },
   "outputs": [],
   "source": [
    "sst_seas"
   ]
  },
  {
   "cell_type": "code",
   "execution_count": null,
   "metadata": {
    "collapsed": true
   },
   "outputs": [],
   "source": [
    "import bottleneck as bn"
   ]
  },
  {
   "cell_type": "code",
   "execution_count": null,
   "metadata": {
    "collapsed": true
   },
   "outputs": [],
   "source": [
    "bn.move_mean?"
   ]
  },
  {
   "cell_type": "code",
   "execution_count": null,
   "metadata": {
    "collapsed": true
   },
   "outputs": [],
   "source": [
    "m3 = bn.move_mean(dset_detrend['sstd'], 3, axis=0)\n",
    "m6 = bn.move_mean(dset_detrend['sstd'], 6, axis=0)"
   ]
  },
  {
   "cell_type": "code",
   "execution_count": null,
   "metadata": {
    "collapsed": false
   },
   "outputs": [],
   "source": [
    "m3.shape"
   ]
  },
  {
   "cell_type": "code",
   "execution_count": null,
   "metadata": {
    "collapsed": false
   },
   "outputs": [],
   "source": [
    "dset_detrend"
   ]
  },
  {
   "cell_type": "code",
   "execution_count": null,
   "metadata": {
    "collapsed": false
   },
   "outputs": [],
   "source": [
    "plt.imshow(m6[5,::-1,:])"
   ]
  },
  {
   "cell_type": "code",
   "execution_count": null,
   "metadata": {
    "collapsed": true
   },
   "outputs": [],
   "source": []
  }
 ],
 "metadata": {
  "kernelspec": {
   "display_name": "Python 3",
   "language": "python",
   "name": "python3"
  },
  "language_info": {
   "codemirror_mode": {
    "name": "ipython",
    "version": 3
   },
   "file_extension": ".py",
   "mimetype": "text/x-python",
   "name": "python",
   "nbconvert_exporter": "python",
   "pygments_lexer": "ipython3",
   "version": "3.4.3"
  }
 },
 "nbformat": 4,
 "nbformat_minor": 0
}
